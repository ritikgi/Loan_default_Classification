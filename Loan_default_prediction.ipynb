{
 "cells": [
  {
   "cell_type": "markdown",
   "id": "635ce6b5",
   "metadata": {},
   "source": [
    "# Data Mining Project"
   ]
  },
  {
   "cell_type": "markdown",
   "id": "0c279f8c",
   "metadata": {},
   "source": [
    "## Advance Credit Lending Fault Detection System Using Data Mining Technique"
   ]
  },
  {
   "cell_type": "code",
   "execution_count": 1,
   "id": "475b2dd5",
   "metadata": {},
   "outputs": [],
   "source": [
    "import pandas as pd \n",
    "import numpy as np \n",
    "import matplotlib.pyplot as plt\n",
    "import seaborn as sns\n",
    "\n",
    "%matplotlib inline "
   ]
  },
  {
   "cell_type": "code",
   "execution_count": 2,
   "id": "4be920c6",
   "metadata": {},
   "outputs": [],
   "source": [
    "df = pd.read_csv(\"lending_club_loan_two.csv\")"
   ]
  },
  {
   "cell_type": "code",
   "execution_count": 3,
   "id": "57ae4d60",
   "metadata": {},
   "outputs": [
    {
     "data": {
      "text/html": [
       "<div>\n",
       "<style scoped>\n",
       "    .dataframe tbody tr th:only-of-type {\n",
       "        vertical-align: middle;\n",
       "    }\n",
       "\n",
       "    .dataframe tbody tr th {\n",
       "        vertical-align: top;\n",
       "    }\n",
       "\n",
       "    .dataframe thead th {\n",
       "        text-align: right;\n",
       "    }\n",
       "</style>\n",
       "<table border=\"1\" class=\"dataframe\">\n",
       "  <thead>\n",
       "    <tr style=\"text-align: right;\">\n",
       "      <th></th>\n",
       "      <th>LoanStatNew</th>\n",
       "      <th>Description</th>\n",
       "    </tr>\n",
       "  </thead>\n",
       "  <tbody>\n",
       "    <tr>\n",
       "      <th>0</th>\n",
       "      <td>loan_amnt</td>\n",
       "      <td>The listed amount of the loan applied for by t...</td>\n",
       "    </tr>\n",
       "    <tr>\n",
       "      <th>1</th>\n",
       "      <td>term</td>\n",
       "      <td>The number of payments on the loan. Values are...</td>\n",
       "    </tr>\n",
       "    <tr>\n",
       "      <th>2</th>\n",
       "      <td>int_rate</td>\n",
       "      <td>Interest Rate on the loan</td>\n",
       "    </tr>\n",
       "    <tr>\n",
       "      <th>3</th>\n",
       "      <td>installment</td>\n",
       "      <td>The monthly payment owed by the borrower if th...</td>\n",
       "    </tr>\n",
       "    <tr>\n",
       "      <th>4</th>\n",
       "      <td>grade</td>\n",
       "      <td>LC assigned loan grade</td>\n",
       "    </tr>\n",
       "    <tr>\n",
       "      <th>5</th>\n",
       "      <td>sub_grade</td>\n",
       "      <td>LC assigned loan subgrade</td>\n",
       "    </tr>\n",
       "    <tr>\n",
       "      <th>6</th>\n",
       "      <td>emp_title</td>\n",
       "      <td>The job title supplied by the Borrower when ap...</td>\n",
       "    </tr>\n",
       "    <tr>\n",
       "      <th>7</th>\n",
       "      <td>emp_length</td>\n",
       "      <td>Employment length in years. Possible values ar...</td>\n",
       "    </tr>\n",
       "    <tr>\n",
       "      <th>8</th>\n",
       "      <td>home_ownership</td>\n",
       "      <td>The home ownership status provided by the borr...</td>\n",
       "    </tr>\n",
       "    <tr>\n",
       "      <th>9</th>\n",
       "      <td>annual_inc</td>\n",
       "      <td>The self-reported annual income provided by th...</td>\n",
       "    </tr>\n",
       "    <tr>\n",
       "      <th>10</th>\n",
       "      <td>verification_status</td>\n",
       "      <td>Indicates if income was verified by LC, not ve...</td>\n",
       "    </tr>\n",
       "    <tr>\n",
       "      <th>11</th>\n",
       "      <td>issue_d</td>\n",
       "      <td>The month which the loan was funded</td>\n",
       "    </tr>\n",
       "    <tr>\n",
       "      <th>12</th>\n",
       "      <td>loan_status</td>\n",
       "      <td>Current status of the loan</td>\n",
       "    </tr>\n",
       "    <tr>\n",
       "      <th>13</th>\n",
       "      <td>purpose</td>\n",
       "      <td>A category provided by the borrower for the lo...</td>\n",
       "    </tr>\n",
       "    <tr>\n",
       "      <th>14</th>\n",
       "      <td>title</td>\n",
       "      <td>The loan title provided by the borrower</td>\n",
       "    </tr>\n",
       "    <tr>\n",
       "      <th>15</th>\n",
       "      <td>zip_code</td>\n",
       "      <td>The first 3 numbers of the zip code provided b...</td>\n",
       "    </tr>\n",
       "    <tr>\n",
       "      <th>16</th>\n",
       "      <td>addr_state</td>\n",
       "      <td>The state provided by the borrower in the loan...</td>\n",
       "    </tr>\n",
       "    <tr>\n",
       "      <th>17</th>\n",
       "      <td>dti</td>\n",
       "      <td>A ratio calculated using the borrower’s total ...</td>\n",
       "    </tr>\n",
       "    <tr>\n",
       "      <th>18</th>\n",
       "      <td>earliest_cr_line</td>\n",
       "      <td>The month the borrower's earliest reported cre...</td>\n",
       "    </tr>\n",
       "    <tr>\n",
       "      <th>19</th>\n",
       "      <td>open_acc</td>\n",
       "      <td>The number of open credit lines in the borrowe...</td>\n",
       "    </tr>\n",
       "    <tr>\n",
       "      <th>20</th>\n",
       "      <td>pub_rec</td>\n",
       "      <td>Number of derogatory public records</td>\n",
       "    </tr>\n",
       "    <tr>\n",
       "      <th>21</th>\n",
       "      <td>revol_bal</td>\n",
       "      <td>Total credit revolving balance</td>\n",
       "    </tr>\n",
       "    <tr>\n",
       "      <th>22</th>\n",
       "      <td>revol_util</td>\n",
       "      <td>Revolving line utilization rate, or the amount...</td>\n",
       "    </tr>\n",
       "    <tr>\n",
       "      <th>23</th>\n",
       "      <td>total_acc</td>\n",
       "      <td>The total number of credit lines currently in ...</td>\n",
       "    </tr>\n",
       "    <tr>\n",
       "      <th>24</th>\n",
       "      <td>initial_list_status</td>\n",
       "      <td>The initial listing status of the loan. Possib...</td>\n",
       "    </tr>\n",
       "    <tr>\n",
       "      <th>25</th>\n",
       "      <td>application_type</td>\n",
       "      <td>Indicates whether the loan is an individual ap...</td>\n",
       "    </tr>\n",
       "    <tr>\n",
       "      <th>26</th>\n",
       "      <td>mort_acc</td>\n",
       "      <td>Number of mortgage accounts.</td>\n",
       "    </tr>\n",
       "    <tr>\n",
       "      <th>27</th>\n",
       "      <td>pub_rec_bankruptcies</td>\n",
       "      <td>Number of public record bankruptcies</td>\n",
       "    </tr>\n",
       "  </tbody>\n",
       "</table>\n",
       "</div>"
      ],
      "text/plain": [
       "             LoanStatNew                                        Description\n",
       "0              loan_amnt  The listed amount of the loan applied for by t...\n",
       "1                   term  The number of payments on the loan. Values are...\n",
       "2               int_rate                          Interest Rate on the loan\n",
       "3            installment  The monthly payment owed by the borrower if th...\n",
       "4                  grade                             LC assigned loan grade\n",
       "5              sub_grade                          LC assigned loan subgrade\n",
       "6              emp_title  The job title supplied by the Borrower when ap...\n",
       "7             emp_length  Employment length in years. Possible values ar...\n",
       "8         home_ownership  The home ownership status provided by the borr...\n",
       "9             annual_inc  The self-reported annual income provided by th...\n",
       "10   verification_status  Indicates if income was verified by LC, not ve...\n",
       "11               issue_d                The month which the loan was funded\n",
       "12           loan_status                         Current status of the loan\n",
       "13               purpose  A category provided by the borrower for the lo...\n",
       "14                 title            The loan title provided by the borrower\n",
       "15              zip_code  The first 3 numbers of the zip code provided b...\n",
       "16            addr_state  The state provided by the borrower in the loan...\n",
       "17                   dti  A ratio calculated using the borrower’s total ...\n",
       "18      earliest_cr_line  The month the borrower's earliest reported cre...\n",
       "19              open_acc  The number of open credit lines in the borrowe...\n",
       "20               pub_rec                Number of derogatory public records\n",
       "21             revol_bal                     Total credit revolving balance\n",
       "22            revol_util  Revolving line utilization rate, or the amount...\n",
       "23             total_acc  The total number of credit lines currently in ...\n",
       "24   initial_list_status  The initial listing status of the loan. Possib...\n",
       "25      application_type  Indicates whether the loan is an individual ap...\n",
       "26              mort_acc                       Number of mortgage accounts.\n",
       "27  pub_rec_bankruptcies               Number of public record bankruptcies"
      ]
     },
     "execution_count": 3,
     "metadata": {},
     "output_type": "execute_result"
    }
   ],
   "source": [
    "meta_data = pd.read_csv(\"lending_club_info.csv\")\n",
    "meta_data"
   ]
  },
  {
   "cell_type": "code",
   "execution_count": 4,
   "id": "ea171482",
   "metadata": {},
   "outputs": [
    {
     "data": {
      "text/plain": [
       "'LC assigned loan grade'"
      ]
     },
     "execution_count": 4,
     "metadata": {},
     "output_type": "execute_result"
    }
   ],
   "source": [
    "meta_data[\"Description\"][4]\n",
    "# for description of data"
   ]
  },
  {
   "cell_type": "code",
   "execution_count": 5,
   "id": "9802924e",
   "metadata": {},
   "outputs": [
    {
     "data": {
      "text/plain": [
       "(396030, 27)"
      ]
     },
     "execution_count": 5,
     "metadata": {},
     "output_type": "execute_result"
    }
   ],
   "source": [
    "df.shape\n",
    "# to get the shape of the data\n",
    "# we have 396k Rows & 27 columns which means we have 26 features\n"
   ]
  },
  {
   "cell_type": "code",
   "execution_count": 6,
   "id": "3a513105",
   "metadata": {},
   "outputs": [
    {
     "data": {
      "text/html": [
       "<div>\n",
       "<style scoped>\n",
       "    .dataframe tbody tr th:only-of-type {\n",
       "        vertical-align: middle;\n",
       "    }\n",
       "\n",
       "    .dataframe tbody tr th {\n",
       "        vertical-align: top;\n",
       "    }\n",
       "\n",
       "    .dataframe thead th {\n",
       "        text-align: right;\n",
       "    }\n",
       "</style>\n",
       "<table border=\"1\" class=\"dataframe\">\n",
       "  <thead>\n",
       "    <tr style=\"text-align: right;\">\n",
       "      <th></th>\n",
       "      <th>0</th>\n",
       "      <th>1</th>\n",
       "      <th>2</th>\n",
       "      <th>3</th>\n",
       "      <th>4</th>\n",
       "    </tr>\n",
       "  </thead>\n",
       "  <tbody>\n",
       "    <tr>\n",
       "      <th>loan_amnt</th>\n",
       "      <td>10000.0</td>\n",
       "      <td>8000.0</td>\n",
       "      <td>15600.0</td>\n",
       "      <td>7200.0</td>\n",
       "      <td>24375.0</td>\n",
       "    </tr>\n",
       "    <tr>\n",
       "      <th>term</th>\n",
       "      <td>36 months</td>\n",
       "      <td>36 months</td>\n",
       "      <td>36 months</td>\n",
       "      <td>36 months</td>\n",
       "      <td>60 months</td>\n",
       "    </tr>\n",
       "    <tr>\n",
       "      <th>int_rate</th>\n",
       "      <td>11.44</td>\n",
       "      <td>11.99</td>\n",
       "      <td>10.49</td>\n",
       "      <td>6.49</td>\n",
       "      <td>17.27</td>\n",
       "    </tr>\n",
       "    <tr>\n",
       "      <th>installment</th>\n",
       "      <td>329.48</td>\n",
       "      <td>265.68</td>\n",
       "      <td>506.97</td>\n",
       "      <td>220.65</td>\n",
       "      <td>609.33</td>\n",
       "    </tr>\n",
       "    <tr>\n",
       "      <th>grade</th>\n",
       "      <td>B</td>\n",
       "      <td>B</td>\n",
       "      <td>B</td>\n",
       "      <td>A</td>\n",
       "      <td>C</td>\n",
       "    </tr>\n",
       "    <tr>\n",
       "      <th>sub_grade</th>\n",
       "      <td>B4</td>\n",
       "      <td>B5</td>\n",
       "      <td>B3</td>\n",
       "      <td>A2</td>\n",
       "      <td>C5</td>\n",
       "    </tr>\n",
       "    <tr>\n",
       "      <th>emp_title</th>\n",
       "      <td>Marketing</td>\n",
       "      <td>Credit analyst</td>\n",
       "      <td>Statistician</td>\n",
       "      <td>Client Advocate</td>\n",
       "      <td>Destiny Management Inc.</td>\n",
       "    </tr>\n",
       "    <tr>\n",
       "      <th>emp_length</th>\n",
       "      <td>10+ years</td>\n",
       "      <td>4 years</td>\n",
       "      <td>&lt; 1 year</td>\n",
       "      <td>6 years</td>\n",
       "      <td>9 years</td>\n",
       "    </tr>\n",
       "    <tr>\n",
       "      <th>home_ownership</th>\n",
       "      <td>RENT</td>\n",
       "      <td>MORTGAGE</td>\n",
       "      <td>RENT</td>\n",
       "      <td>RENT</td>\n",
       "      <td>MORTGAGE</td>\n",
       "    </tr>\n",
       "    <tr>\n",
       "      <th>annual_inc</th>\n",
       "      <td>117000.0</td>\n",
       "      <td>65000.0</td>\n",
       "      <td>43057.0</td>\n",
       "      <td>54000.0</td>\n",
       "      <td>55000.0</td>\n",
       "    </tr>\n",
       "    <tr>\n",
       "      <th>verification_status</th>\n",
       "      <td>Not Verified</td>\n",
       "      <td>Not Verified</td>\n",
       "      <td>Source Verified</td>\n",
       "      <td>Not Verified</td>\n",
       "      <td>Verified</td>\n",
       "    </tr>\n",
       "    <tr>\n",
       "      <th>issue_d</th>\n",
       "      <td>Jan-2015</td>\n",
       "      <td>Jan-2015</td>\n",
       "      <td>Jan-2015</td>\n",
       "      <td>Nov-2014</td>\n",
       "      <td>Apr-2013</td>\n",
       "    </tr>\n",
       "    <tr>\n",
       "      <th>loan_status</th>\n",
       "      <td>Fully Paid</td>\n",
       "      <td>Fully Paid</td>\n",
       "      <td>Fully Paid</td>\n",
       "      <td>Fully Paid</td>\n",
       "      <td>Charged Off</td>\n",
       "    </tr>\n",
       "    <tr>\n",
       "      <th>purpose</th>\n",
       "      <td>vacation</td>\n",
       "      <td>debt_consolidation</td>\n",
       "      <td>credit_card</td>\n",
       "      <td>credit_card</td>\n",
       "      <td>credit_card</td>\n",
       "    </tr>\n",
       "    <tr>\n",
       "      <th>title</th>\n",
       "      <td>Vacation</td>\n",
       "      <td>Debt consolidation</td>\n",
       "      <td>Credit card refinancing</td>\n",
       "      <td>Credit card refinancing</td>\n",
       "      <td>Credit Card Refinance</td>\n",
       "    </tr>\n",
       "    <tr>\n",
       "      <th>dti</th>\n",
       "      <td>26.24</td>\n",
       "      <td>22.05</td>\n",
       "      <td>12.79</td>\n",
       "      <td>2.6</td>\n",
       "      <td>33.95</td>\n",
       "    </tr>\n",
       "    <tr>\n",
       "      <th>earliest_cr_line</th>\n",
       "      <td>Jun-1990</td>\n",
       "      <td>Jul-2004</td>\n",
       "      <td>Aug-2007</td>\n",
       "      <td>Sep-2006</td>\n",
       "      <td>Mar-1999</td>\n",
       "    </tr>\n",
       "    <tr>\n",
       "      <th>open_acc</th>\n",
       "      <td>16.0</td>\n",
       "      <td>17.0</td>\n",
       "      <td>13.0</td>\n",
       "      <td>6.0</td>\n",
       "      <td>13.0</td>\n",
       "    </tr>\n",
       "    <tr>\n",
       "      <th>pub_rec</th>\n",
       "      <td>0.0</td>\n",
       "      <td>0.0</td>\n",
       "      <td>0.0</td>\n",
       "      <td>0.0</td>\n",
       "      <td>0.0</td>\n",
       "    </tr>\n",
       "    <tr>\n",
       "      <th>revol_bal</th>\n",
       "      <td>36369.0</td>\n",
       "      <td>20131.0</td>\n",
       "      <td>11987.0</td>\n",
       "      <td>5472.0</td>\n",
       "      <td>24584.0</td>\n",
       "    </tr>\n",
       "    <tr>\n",
       "      <th>revol_util</th>\n",
       "      <td>41.8</td>\n",
       "      <td>53.3</td>\n",
       "      <td>92.2</td>\n",
       "      <td>21.5</td>\n",
       "      <td>69.8</td>\n",
       "    </tr>\n",
       "    <tr>\n",
       "      <th>total_acc</th>\n",
       "      <td>25.0</td>\n",
       "      <td>27.0</td>\n",
       "      <td>26.0</td>\n",
       "      <td>13.0</td>\n",
       "      <td>43.0</td>\n",
       "    </tr>\n",
       "    <tr>\n",
       "      <th>initial_list_status</th>\n",
       "      <td>w</td>\n",
       "      <td>f</td>\n",
       "      <td>f</td>\n",
       "      <td>f</td>\n",
       "      <td>f</td>\n",
       "    </tr>\n",
       "    <tr>\n",
       "      <th>application_type</th>\n",
       "      <td>INDIVIDUAL</td>\n",
       "      <td>INDIVIDUAL</td>\n",
       "      <td>INDIVIDUAL</td>\n",
       "      <td>INDIVIDUAL</td>\n",
       "      <td>INDIVIDUAL</td>\n",
       "    </tr>\n",
       "    <tr>\n",
       "      <th>mort_acc</th>\n",
       "      <td>0.0</td>\n",
       "      <td>3.0</td>\n",
       "      <td>0.0</td>\n",
       "      <td>0.0</td>\n",
       "      <td>1.0</td>\n",
       "    </tr>\n",
       "    <tr>\n",
       "      <th>pub_rec_bankruptcies</th>\n",
       "      <td>0.0</td>\n",
       "      <td>0.0</td>\n",
       "      <td>0.0</td>\n",
       "      <td>0.0</td>\n",
       "      <td>0.0</td>\n",
       "    </tr>\n",
       "    <tr>\n",
       "      <th>address</th>\n",
       "      <td>0174 Michelle Gateway\\nMendozaberg, OK 22690</td>\n",
       "      <td>1076 Carney Fort Apt. 347\\nLoganmouth, SD 05113</td>\n",
       "      <td>87025 Mark Dale Apt. 269\\nNew Sabrina, WV 05113</td>\n",
       "      <td>823 Reid Ford\\nDelacruzside, MA 00813</td>\n",
       "      <td>679 Luna Roads\\nGreggshire, VA 11650</td>\n",
       "    </tr>\n",
       "  </tbody>\n",
       "</table>\n",
       "</div>"
      ],
      "text/plain": [
       "                                                                 0  \\\n",
       "loan_amnt                                                  10000.0   \n",
       "term                                                     36 months   \n",
       "int_rate                                                     11.44   \n",
       "installment                                                 329.48   \n",
       "grade                                                            B   \n",
       "sub_grade                                                       B4   \n",
       "emp_title                                                Marketing   \n",
       "emp_length                                               10+ years   \n",
       "home_ownership                                                RENT   \n",
       "annual_inc                                                117000.0   \n",
       "verification_status                                   Not Verified   \n",
       "issue_d                                                   Jan-2015   \n",
       "loan_status                                             Fully Paid   \n",
       "purpose                                                   vacation   \n",
       "title                                                     Vacation   \n",
       "dti                                                          26.24   \n",
       "earliest_cr_line                                          Jun-1990   \n",
       "open_acc                                                      16.0   \n",
       "pub_rec                                                        0.0   \n",
       "revol_bal                                                  36369.0   \n",
       "revol_util                                                    41.8   \n",
       "total_acc                                                     25.0   \n",
       "initial_list_status                                              w   \n",
       "application_type                                        INDIVIDUAL   \n",
       "mort_acc                                                       0.0   \n",
       "pub_rec_bankruptcies                                           0.0   \n",
       "address               0174 Michelle Gateway\\nMendozaberg, OK 22690   \n",
       "\n",
       "                                                                    1  \\\n",
       "loan_amnt                                                      8000.0   \n",
       "term                                                        36 months   \n",
       "int_rate                                                        11.99   \n",
       "installment                                                    265.68   \n",
       "grade                                                               B   \n",
       "sub_grade                                                          B5   \n",
       "emp_title                                             Credit analyst    \n",
       "emp_length                                                    4 years   \n",
       "home_ownership                                               MORTGAGE   \n",
       "annual_inc                                                    65000.0   \n",
       "verification_status                                      Not Verified   \n",
       "issue_d                                                      Jan-2015   \n",
       "loan_status                                                Fully Paid   \n",
       "purpose                                            debt_consolidation   \n",
       "title                                              Debt consolidation   \n",
       "dti                                                             22.05   \n",
       "earliest_cr_line                                             Jul-2004   \n",
       "open_acc                                                         17.0   \n",
       "pub_rec                                                           0.0   \n",
       "revol_bal                                                     20131.0   \n",
       "revol_util                                                       53.3   \n",
       "total_acc                                                        27.0   \n",
       "initial_list_status                                                 f   \n",
       "application_type                                           INDIVIDUAL   \n",
       "mort_acc                                                          3.0   \n",
       "pub_rec_bankruptcies                                              0.0   \n",
       "address               1076 Carney Fort Apt. 347\\nLoganmouth, SD 05113   \n",
       "\n",
       "                                                                    2  \\\n",
       "loan_amnt                                                     15600.0   \n",
       "term                                                        36 months   \n",
       "int_rate                                                        10.49   \n",
       "installment                                                    506.97   \n",
       "grade                                                               B   \n",
       "sub_grade                                                          B3   \n",
       "emp_title                                                Statistician   \n",
       "emp_length                                                   < 1 year   \n",
       "home_ownership                                                   RENT   \n",
       "annual_inc                                                    43057.0   \n",
       "verification_status                                   Source Verified   \n",
       "issue_d                                                      Jan-2015   \n",
       "loan_status                                                Fully Paid   \n",
       "purpose                                                   credit_card   \n",
       "title                                         Credit card refinancing   \n",
       "dti                                                             12.79   \n",
       "earliest_cr_line                                             Aug-2007   \n",
       "open_acc                                                         13.0   \n",
       "pub_rec                                                           0.0   \n",
       "revol_bal                                                     11987.0   \n",
       "revol_util                                                       92.2   \n",
       "total_acc                                                        26.0   \n",
       "initial_list_status                                                 f   \n",
       "application_type                                           INDIVIDUAL   \n",
       "mort_acc                                                          0.0   \n",
       "pub_rec_bankruptcies                                              0.0   \n",
       "address               87025 Mark Dale Apt. 269\\nNew Sabrina, WV 05113   \n",
       "\n",
       "                                                          3  \\\n",
       "loan_amnt                                            7200.0   \n",
       "term                                              36 months   \n",
       "int_rate                                               6.49   \n",
       "installment                                          220.65   \n",
       "grade                                                     A   \n",
       "sub_grade                                                A2   \n",
       "emp_title                                   Client Advocate   \n",
       "emp_length                                          6 years   \n",
       "home_ownership                                         RENT   \n",
       "annual_inc                                          54000.0   \n",
       "verification_status                            Not Verified   \n",
       "issue_d                                            Nov-2014   \n",
       "loan_status                                      Fully Paid   \n",
       "purpose                                         credit_card   \n",
       "title                               Credit card refinancing   \n",
       "dti                                                     2.6   \n",
       "earliest_cr_line                                   Sep-2006   \n",
       "open_acc                                                6.0   \n",
       "pub_rec                                                 0.0   \n",
       "revol_bal                                            5472.0   \n",
       "revol_util                                             21.5   \n",
       "total_acc                                              13.0   \n",
       "initial_list_status                                       f   \n",
       "application_type                                 INDIVIDUAL   \n",
       "mort_acc                                                0.0   \n",
       "pub_rec_bankruptcies                                    0.0   \n",
       "address               823 Reid Ford\\nDelacruzside, MA 00813   \n",
       "\n",
       "                                                         4  \n",
       "loan_amnt                                          24375.0  \n",
       "term                                             60 months  \n",
       "int_rate                                             17.27  \n",
       "installment                                         609.33  \n",
       "grade                                                    C  \n",
       "sub_grade                                               C5  \n",
       "emp_title                          Destiny Management Inc.  \n",
       "emp_length                                         9 years  \n",
       "home_ownership                                    MORTGAGE  \n",
       "annual_inc                                         55000.0  \n",
       "verification_status                               Verified  \n",
       "issue_d                                           Apr-2013  \n",
       "loan_status                                    Charged Off  \n",
       "purpose                                        credit_card  \n",
       "title                                Credit Card Refinance  \n",
       "dti                                                  33.95  \n",
       "earliest_cr_line                                  Mar-1999  \n",
       "open_acc                                              13.0  \n",
       "pub_rec                                                0.0  \n",
       "revol_bal                                          24584.0  \n",
       "revol_util                                            69.8  \n",
       "total_acc                                             43.0  \n",
       "initial_list_status                                      f  \n",
       "application_type                                INDIVIDUAL  \n",
       "mort_acc                                               1.0  \n",
       "pub_rec_bankruptcies                                   0.0  \n",
       "address               679 Luna Roads\\nGreggshire, VA 11650  "
      ]
     },
     "execution_count": 6,
     "metadata": {},
     "output_type": "execute_result"
    }
   ],
   "source": [
    "df.head().T # df.head.T to get all the columns of the data "
   ]
  },
  {
   "cell_type": "markdown",
   "id": "edc160ed",
   "metadata": {},
   "source": [
    " most of the columns are categorical in nature \n",
    " and the First thing we should always do  is to look into the distribution of target variable\n",
    " The “target variable” is the variable whose values are to be modeled and predicted by other variables.\n"
   ]
  },
  {
   "cell_type": "code",
   "execution_count": 7,
   "id": "f630b81f",
   "metadata": {},
   "outputs": [
    {
     "data": {
      "text/plain": [
       "<AxesSubplot:xlabel='loan_status', ylabel='count'>"
      ]
     },
     "execution_count": 7,
     "metadata": {},
     "output_type": "execute_result"
    },
    {
     "data": {
      "image/png": "[encoded data removed]",
      "text/plain": [
       "<Figure size 432x288 with 1 Axes>"
      ]
     },
     "metadata": {
      "needs_background": "light"
     },
     "output_type": "display_data"
    }
   ],
   "source": [
    "# our target variable is categorical in nature we are going to count plot using the seaborn\n",
    "sns.countplot(x=\"loan_status\",data=df)\n",
    "# charged off means didn't paid the loan  "
   ]
  },
  {
   "cell_type": "code",
   "execution_count": 8,
   "id": "cf1a3ac8",
   "metadata": {},
   "outputs": [
    {
     "data": {
      "text/plain": [
       "Fully Paid     80.387092\n",
       "Charged Off    19.612908\n",
       "Name: loan_status, dtype: float64"
      ]
     },
     "execution_count": 8,
     "metadata": {},
     "output_type": "execute_result"
    }
   ],
   "source": [
    "# to get the exact of of values we will use the value count methond\n",
    "values = df['loan_status'].value_counts()\n",
    "values*100/len(df) # for better understanding we are using percentages"
   ]
  },
  {
   "cell_type": "code",
   "execution_count": 9,
   "id": "43339ff4",
   "metadata": {},
   "outputs": [],
   "source": [
    "# we are having the ratio of 80:20 \n",
    "# this is called highly imbalanced dataset which will lead to more data of full paid so our model will get biased towards the\n",
    "#fully paid"
   ]
  },
  {
   "cell_type": "code",
   "execution_count": 10,
   "id": "ab5c8b2c",
   "metadata": {},
   "outputs": [
    {
     "data": {
      "text/plain": [
       "<AxesSubplot:xlabel='loan_amnt', ylabel='Count'>"
      ]
     },
     "execution_count": 10,
     "metadata": {},
     "output_type": "execute_result"
    },
    {
     "data": {
      "image/png": "[encoded data removed]",
      "text/plain": [
       "<Figure size 864x288 with 1 Axes>"
      ]
     },
     "metadata": {
      "needs_background": "light"
     },
     "output_type": "display_data"
    }
   ],
   "source": [
    "# next we will visualize the loan ammount since it is a continous variable we have to use the histogram\n",
    "# we are using the plot size of 12 by 4 \n",
    "plt.figure(figsize=(12,4))\n",
    "sns.histplot(df[\"loan_amnt\"],bins=40)\n",
    "# it has right skew distribution positively skewed distri\n",
    "# 40000 is the outliers"
   ]
  },
  {
   "cell_type": "code",
   "execution_count": 11,
   "id": "b86458fb",
   "metadata": {},
   "outputs": [
    {
     "data": {
      "text/plain": [
       "' loan ammont are high correlated with the installments reason being installments are calculated on the loan ammount hence, there is strong correlation '"
      ]
     },
     "execution_count": 11,
     "metadata": {},
     "output_type": "execute_result"
    },
    {
     "data": {
      "image/png": "[encoded data removed]",
      "text/plain": [
       "<Figure size 864x504 with 2 Axes>"
      ]
     },
     "metadata": {
      "needs_background": "light"
     },
     "output_type": "display_data"
    }
   ],
   "source": [
    "# heatmap is the better way to visualize the corelation matrix\n",
    "plt.figure(figsize=(12,7))\n",
    "sns.heatmap(df.corr(),annot = True, cmap='viridis') # it takes few parameters first corelation matrix set annot to true to get the correlation value\n",
    "# n then the color map for the heat map \n",
    "\n",
    "# yellow represents the positive correlation \n",
    "# dark voilet represents the negetive correlation\n",
    "\"\"\" loan ammont are high correlated with the installments reason being installments are calculated on the loan ammount hence, there is strong correlation \"\"\"\n",
    "# there is a strong realtion between the installments and the loan amounts"
   ]
  },
  {
   "cell_type": "code",
   "execution_count": 12,
   "id": "08b8d8dc",
   "metadata": {},
   "outputs": [
    {
     "data": {
      "text/plain": [
       "'we can conclude that the loan installments is different for same loan ammount \\nand their can be many factor like someone has taken a loan for period of 10 year and someone took loan for 15 year\\n\\nwe make use of no of years and the int rate\\n'"
      ]
     },
     "execution_count": 12,
     "metadata": {},
     "output_type": "execute_result"
    },
    {
     "data": {
      "image/png": "[encoded data removed]",
      "text/plain": [
       "<Figure size 864x504 with 1 Axes>"
      ]
     },
     "metadata": {
      "needs_background": "light"
     },
     "output_type": "display_data"
    }
   ],
   "source": [
    "# scatter plot gives more clarity how the relationship is working\n",
    "plt.figure(figsize=(12,7))\n",
    "sns.scatterplot(x=\"installment\", y=\"loan_amnt\", data=df)\n",
    "\n",
    "'''we can conclude that the loan installments is different for same loan ammount \n",
    "and their can be many factor like someone has taken a loan for period of 10 year and someone took loan for 15 year\n",
    "\n",
    "we make use of no of years and the int rate\n",
    "'''"
   ]
  },
  {
   "cell_type": "code",
   "execution_count": 13,
   "id": "f00c3ba7",
   "metadata": {},
   "outputs": [
    {
     "data": {
      "text/plain": [
       "<AxesSubplot:xlabel='loan_status', ylabel='loan_amnt'>"
      ]
     },
     "execution_count": 13,
     "metadata": {},
     "output_type": "execute_result"
    },
    {
     "data": {
      "image/png": "[encoded data removed]",
      "text/plain": [
       "<Figure size 432x288 with 1 Axes>"
      ]
     },
     "metadata": {
      "needs_background": "light"
     },
     "output_type": "display_data"
    }
   ],
   "source": [
    "# next are gonna see how loan ammount affect the loan status\n",
    "# box plot uses for outliers detection \n",
    "sns.boxplot(x='loan_status', y='loan_amnt', data=df)\n",
    "# the line inside the box is median \n",
    "# median loan ammount is almost equal so based on this we can make an assumption loan ammount is not a good factor in deciding\n",
    "# whether the person will default or not"
   ]
  },
  {
   "cell_type": "code",
   "execution_count": 14,
   "id": "6063cd28",
   "metadata": {},
   "outputs": [
    {
     "data": {
      "text/html": [
       "<div>\n",
       "<style scoped>\n",
       "    .dataframe tbody tr th:only-of-type {\n",
       "        vertical-align: middle;\n",
       "    }\n",
       "\n",
       "    .dataframe tbody tr th {\n",
       "        vertical-align: top;\n",
       "    }\n",
       "\n",
       "    .dataframe thead th {\n",
       "        text-align: right;\n",
       "    }\n",
       "</style>\n",
       "<table border=\"1\" class=\"dataframe\">\n",
       "  <thead>\n",
       "    <tr style=\"text-align: right;\">\n",
       "      <th></th>\n",
       "      <th>count</th>\n",
       "      <th>mean</th>\n",
       "      <th>std</th>\n",
       "      <th>min</th>\n",
       "      <th>25%</th>\n",
       "      <th>50%</th>\n",
       "      <th>75%</th>\n",
       "      <th>max</th>\n",
       "    </tr>\n",
       "    <tr>\n",
       "      <th>loan_status</th>\n",
       "      <th></th>\n",
       "      <th></th>\n",
       "      <th></th>\n",
       "      <th></th>\n",
       "      <th></th>\n",
       "      <th></th>\n",
       "      <th></th>\n",
       "      <th></th>\n",
       "    </tr>\n",
       "  </thead>\n",
       "  <tbody>\n",
       "    <tr>\n",
       "      <th>Charged Off</th>\n",
       "      <td>77673.0</td>\n",
       "      <td>15126.300967</td>\n",
       "      <td>8505.090557</td>\n",
       "      <td>1000.0</td>\n",
       "      <td>8525.0</td>\n",
       "      <td>14000.0</td>\n",
       "      <td>20000.0</td>\n",
       "      <td>40000.0</td>\n",
       "    </tr>\n",
       "    <tr>\n",
       "      <th>Fully Paid</th>\n",
       "      <td>318357.0</td>\n",
       "      <td>13866.878771</td>\n",
       "      <td>8302.319699</td>\n",
       "      <td>500.0</td>\n",
       "      <td>7500.0</td>\n",
       "      <td>12000.0</td>\n",
       "      <td>19225.0</td>\n",
       "      <td>40000.0</td>\n",
       "    </tr>\n",
       "  </tbody>\n",
       "</table>\n",
       "</div>"
      ],
      "text/plain": [
       "                count          mean          std     min     25%      50%  \\\n",
       "loan_status                                                                 \n",
       "Charged Off   77673.0  15126.300967  8505.090557  1000.0  8525.0  14000.0   \n",
       "Fully Paid   318357.0  13866.878771  8302.319699   500.0  7500.0  12000.0   \n",
       "\n",
       "                 75%      max  \n",
       "loan_status                    \n",
       "Charged Off  20000.0  40000.0  \n",
       "Fully Paid   19225.0  40000.0  "
      ]
     },
     "execution_count": 14,
     "metadata": {},
     "output_type": "execute_result"
    }
   ],
   "source": [
    "df.groupby('loan_status')['loan_amnt'].describe()\n",
    "# it will give the same summary as the box plot gave"
   ]
  },
  {
   "cell_type": "code",
   "execution_count": 15,
   "id": "a77e4ee9",
   "metadata": {},
   "outputs": [
    {
     "data": {
      "text/plain": [
       "0         B\n",
       "1         B\n",
       "2         B\n",
       "3         A\n",
       "4         C\n",
       "         ..\n",
       "396025    B\n",
       "396026    C\n",
       "396027    B\n",
       "396028    C\n",
       "396029    C\n",
       "Name: grade, Length: 396030, dtype: object"
      ]
     },
     "execution_count": 15,
     "metadata": {},
     "output_type": "execute_result"
    }
   ],
   "source": [
    "# next grade variable \n",
    "df['grade'] # to check the meta of the grade"
   ]
  },
  {
   "cell_type": "code",
   "execution_count": 16,
   "id": "8bedae8b",
   "metadata": {},
   "outputs": [
    {
     "data": {
      "text/plain": [
       "'LC assigned loan grade'"
      ]
     },
     "execution_count": 16,
     "metadata": {},
     "output_type": "execute_result"
    }
   ],
   "source": [
    "meta_data[\"Description\"][4]\n",
    "# it is a grade given to a particular loan \n",
    "# if  a person is paying everything on time and doing everything right the customer is resign grade \"A\""
   ]
  },
  {
   "cell_type": "code",
   "execution_count": 17,
   "id": "16b3daf7",
   "metadata": {},
   "outputs": [
    {
     "data": {
      "text/plain": [
       "array(['B', 'A', 'C', 'E', 'D', 'F', 'G'], dtype=object)"
      ]
     },
     "execution_count": 17,
     "metadata": {},
     "output_type": "execute_result"
    }
   ],
   "source": [
    "df['grade'].unique()"
   ]
  },
  {
   "cell_type": "code",
   "execution_count": 18,
   "id": "36d96a96",
   "metadata": {},
   "outputs": [
    {
     "data": {
      "text/plain": [
       "<AxesSubplot:xlabel='grade', ylabel='count'>"
      ]
     },
     "execution_count": 18,
     "metadata": {},
     "output_type": "execute_result"
    },
    {
     "data": {
      "image/png": "[encoded data removed]",
      "text/plain": [
       "<Figure size 864x504 with 1 Axes>"
      ]
     },
     "metadata": {
      "needs_background": "light"
     },
     "output_type": "display_data"
    }
   ],
   "source": [
    "# check how grading affect the loan \n",
    "plt.figure(figsize=(12,7))\n",
    "sns.countplot(x= \"grade\", hue = \"loan_status\", data=df)"
   ]
  },
  {
   "cell_type": "code",
   "execution_count": 19,
   "id": "f08cf1d2",
   "metadata": {},
   "outputs": [
    {
     "data": {
      "text/plain": [
       "loan_status\n",
       "Charged Off     6.287878\n",
       "Fully Paid     93.712122\n",
       "Name: grade, dtype: float64"
      ]
     },
     "execution_count": 19,
     "metadata": {},
     "output_type": "execute_result"
    }
   ],
   "source": [
    "# this shows as the grade goes from A -> B, B->C the default rate increases \n",
    "df[df[\"grade\"]==\"A\"].groupby(\"loan_status\")[\"grade\"].count()*100/len(df[df[\"grade\"]==\"A\"])\n",
    "# for type A loan the percentage of people defaulted is 6% only\n"
   ]
  },
  {
   "cell_type": "code",
   "execution_count": 20,
   "id": "207de717",
   "metadata": {},
   "outputs": [
    {
     "data": {
      "text/plain": [
       "loan_status\n",
       "Charged Off    12.573049\n",
       "Fully Paid     87.426951\n",
       "Name: grade, dtype: float64"
      ]
     },
     "execution_count": 20,
     "metadata": {},
     "output_type": "execute_result"
    }
   ],
   "source": [
    "df[df[\"grade\"]==\"B\"].groupby(\"loan_status\")[\"grade\"].count()*100/len(df[df[\"grade\"]==\"B\"])\n",
    "# for type A loan the percentage of people defaulted is 12%"
   ]
  },
  {
   "cell_type": "code",
   "execution_count": 21,
   "id": "065bb6ad",
   "metadata": {},
   "outputs": [
    {
     "data": {
      "text/plain": [
       "loan_status\n",
       "Charged Off    47.8389\n",
       "Fully Paid     52.1611\n",
       "Name: grade, dtype: float64"
      ]
     },
     "execution_count": 21,
     "metadata": {},
     "output_type": "execute_result"
    }
   ],
   "source": [
    "df[df[\"grade\"]==\"G\"].groupby(\"loan_status\")[\"grade\"].count()*100/len(df[df[\"grade\"]==\"G\"])\n",
    "# for type A loan the percentage of people defaulted is 47% "
   ]
  },
  {
   "cell_type": "code",
   "execution_count": 22,
   "id": "a8700594",
   "metadata": {},
   "outputs": [
    {
     "data": {
      "text/plain": [
       "array(['B4', 'B5', 'B3', 'A2', 'C5', 'C3', 'A1', 'B2', 'C1', 'A5', 'E4',\n",
       "       'A4', 'A3', 'D1', 'C2', 'B1', 'D3', 'D5', 'D2', 'E1', 'E2', 'E5',\n",
       "       'F4', 'E3', 'D4', 'G1', 'F5', 'G2', 'C4', 'F1', 'F3', 'G5', 'G4',\n",
       "       'F2', 'G3'], dtype=object)"
      ]
     },
     "execution_count": 22,
     "metadata": {},
     "output_type": "execute_result"
    }
   ],
   "source": [
    "df[\"sub_grade\"].unique()"
   ]
  },
  {
   "cell_type": "code",
   "execution_count": 23,
   "id": "45c098fd",
   "metadata": {},
   "outputs": [
    {
     "data": {
      "text/plain": [
       "['A1',\n",
       " 'A2',\n",
       " 'A3',\n",
       " 'A4',\n",
       " 'A5',\n",
       " 'B1',\n",
       " 'B2',\n",
       " 'B3',\n",
       " 'B4',\n",
       " 'B5',\n",
       " 'C1',\n",
       " 'C2',\n",
       " 'C3',\n",
       " 'C4',\n",
       " 'C5',\n",
       " 'D1',\n",
       " 'D2',\n",
       " 'D3',\n",
       " 'D4',\n",
       " 'D5',\n",
       " 'E1',\n",
       " 'E2',\n",
       " 'E3',\n",
       " 'E4',\n",
       " 'E5',\n",
       " 'F1',\n",
       " 'F2',\n",
       " 'F3',\n",
       " 'F4',\n",
       " 'F5',\n",
       " 'G1',\n",
       " 'G2',\n",
       " 'G3',\n",
       " 'G4',\n",
       " 'G5']"
      ]
     },
     "execution_count": 23,
     "metadata": {},
     "output_type": "execute_result"
    }
   ],
   "source": [
    "sub_order=sorted(df[\"sub_grade\"].unique())\n",
    "sub_order"
   ]
  },
  {
   "cell_type": "markdown",
   "id": "abb4618d",
   "metadata": {},
   "source": [
    "we are sorting the subgrade "
   ]
  },
  {
   "cell_type": "code",
   "execution_count": 24,
   "id": "382d2343",
   "metadata": {},
   "outputs": [
    {
     "data": {
      "text/plain": [
       "<AxesSubplot:xlabel='sub_grade', ylabel='count'>"
      ]
     },
     "execution_count": 24,
     "metadata": {},
     "output_type": "execute_result"
    },
    {
     "data": {
      "image/png": "[encoded data removed]",
      "text/plain": [
       "<Figure size 864x504 with 1 Axes>"
      ]
     },
     "metadata": {
      "needs_background": "light"
     },
     "output_type": "display_data"
    }
   ],
   "source": [
    "plt.figure(figsize=(12,7))\n",
    "sns.countplot(x= \"sub_grade\", hue = \"loan_status\",order=sub_order, data=df)"
   ]
  },
  {
   "cell_type": "code",
   "execution_count": 25,
   "id": "5d1f1114",
   "metadata": {},
   "outputs": [
    {
     "data": {
      "text/plain": [
       "loan_status\n",
       "Charged Off     2.867715\n",
       "Fully Paid     97.132285\n",
       "Name: sub_grade, dtype: float64"
      ]
     },
     "execution_count": 25,
     "metadata": {},
     "output_type": "execute_result"
    }
   ],
   "source": [
    "df[df[\"sub_grade\"]==\"A1\"].groupby(\"loan_status\")[\"sub_grade\"].count()*100/len(df[df[\"sub_grade\"]==\"A1\"])\n"
   ]
  },
  {
   "cell_type": "code",
   "execution_count": 26,
   "id": "505c56cc",
   "metadata": {},
   "outputs": [
    {
     "data": {
      "text/plain": [
       "loan_status\n",
       "Charged Off     4.818647\n",
       "Fully Paid     95.181353\n",
       "Name: sub_grade, dtype: float64"
      ]
     },
     "execution_count": 26,
     "metadata": {},
     "output_type": "execute_result"
    }
   ],
   "source": [
    "df[df[\"sub_grade\"]==\"A2\"].groupby(\"loan_status\")[\"sub_grade\"].count()*100/len(df[df[\"sub_grade\"]==\"A2\"])\n"
   ]
  },
  {
   "cell_type": "code",
   "execution_count": 27,
   "id": "20ae49cc",
   "metadata": {},
   "outputs": [
    {
     "data": {
      "text/plain": [
       "loan_status\n",
       "Charged Off    10.8513\n",
       "Fully Paid     89.1487\n",
       "Name: sub_grade, dtype: float64"
      ]
     },
     "execution_count": 27,
     "metadata": {},
     "output_type": "execute_result"
    }
   ],
   "source": [
    "df[df[\"sub_grade\"]==\"B2\"].groupby(\"loan_status\")[\"sub_grade\"].count()*100/len(df[df[\"sub_grade\"]==\"B2\"])\n"
   ]
  },
  {
   "cell_type": "code",
   "execution_count": 28,
   "id": "12d66157",
   "metadata": {},
   "outputs": [
    {
     "data": {
      "text/plain": [
       "<AxesSubplot:xlabel='emp_length', ylabel='count'>"
      ]
     },
     "execution_count": 28,
     "metadata": {},
     "output_type": "execute_result"
    },
    {
     "data": {
      "image/png": "[encoded data removed]",
      "text/plain": [
       "<Figure size 864x504 with 1 Axes>"
      ]
     },
     "metadata": {
      "needs_background": "light"
     },
     "output_type": "display_data"
    }
   ],
   "source": [
    "# Now how employee length affect the loan status\n",
    "plt.figure(figsize=(12,7))\n",
    "sns.countplot(x= \"emp_length\", hue = \"loan_status\", data=df)"
   ]
  },
  {
   "cell_type": "code",
   "execution_count": 29,
   "id": "e5b71c7c",
   "metadata": {},
   "outputs": [
    {
     "data": {
      "text/plain": [
       "<AxesSubplot:xlabel='verification_status', ylabel='count'>"
      ]
     },
     "execution_count": 29,
     "metadata": {},
     "output_type": "execute_result"
    },
    {
     "data": {
      "image/png": "[encoded data removed]",
      "text/plain": [
       "<Figure size 864x504 with 1 Axes>"
      ]
     },
     "metadata": {
      "needs_background": "light"
     },
     "output_type": "display_data"
    }
   ],
   "source": [
    "#check for the verfication status\n",
    "plt.figure(figsize=(12,7))\n",
    "sns.countplot(x= \"verification_status\", hue = \"loan_status\", data=df)"
   ]
  },
  {
   "cell_type": "markdown",
   "id": "92eddd64",
   "metadata": {},
   "source": [
    "the above diagram shows the distribution for note verfied, source verified, verified is almost simmilar \n",
    "the graph shows the company verification process is not as effiecient as it should be \n",
    "there should be decreased the the count of charged off for source verified\n"
   ]
  },
  {
   "cell_type": "code",
   "execution_count": 30,
   "id": "9eb9c641",
   "metadata": {},
   "outputs": [
    {
     "data": {
      "text/plain": [
       "array(['Fully Paid', 'Charged Off'], dtype=object)"
      ]
     },
     "execution_count": 30,
     "metadata": {},
     "output_type": "execute_result"
    }
   ],
   "source": [
    "df['loan_status'].unique()"
   ]
  },
  {
   "cell_type": "code",
   "execution_count": 31,
   "id": "bf28456e",
   "metadata": {},
   "outputs": [],
   "source": [
    "df[\"loan_status\"]=df[\"loan_status\"].apply(lambda x:1 if x == \"Fully Paid\" else 0)"
   ]
  },
  {
   "cell_type": "code",
   "execution_count": 32,
   "id": "a4d67c0d",
   "metadata": {},
   "outputs": [
    {
     "data": {
      "text/plain": [
       "array([1, 0], dtype=int64)"
      ]
     },
     "execution_count": 32,
     "metadata": {},
     "output_type": "execute_result"
    }
   ],
   "source": [
    "df['loan_status'].unique()"
   ]
  },
  {
   "cell_type": "code",
   "execution_count": 33,
   "id": "3f5352c4",
   "metadata": {},
   "outputs": [
    {
     "data": {
      "text/plain": [
       "<AxesSubplot:>"
      ]
     },
     "execution_count": 33,
     "metadata": {},
     "output_type": "execute_result"
    },
    {
     "data": {
      "image/png": "[encoded data removed]",
      "text/plain": [
       "<Figure size 432x288 with 1 Axes>"
      ]
     },
     "metadata": {
      "needs_background": "light"
     },
     "output_type": "display_data"
    }
   ],
   "source": [
    "df.corr()[\"loan_status\"].sort_values().drop(\"loan_status\").plot(kind=\"bar\")"
   ]
  },
  {
   "cell_type": "code",
   "execution_count": 34,
   "id": "05ec0ea1",
   "metadata": {},
   "outputs": [
    {
     "data": {
      "text/plain": [
       "loan_amnt               0.000000\n",
       "term                    0.000000\n",
       "int_rate                0.000000\n",
       "installment             0.000000\n",
       "grade                   0.000000\n",
       "sub_grade               0.000000\n",
       "emp_title               5.789208\n",
       "emp_length              4.621115\n",
       "home_ownership          0.000000\n",
       "annual_inc              0.000000\n",
       "verification_status     0.000000\n",
       "issue_d                 0.000000\n",
       "loan_status             0.000000\n",
       "purpose                 0.000000\n",
       "title                   0.443148\n",
       "dti                     0.000000\n",
       "earliest_cr_line        0.000000\n",
       "open_acc                0.000000\n",
       "pub_rec                 0.000000\n",
       "revol_bal               0.000000\n",
       "revol_util              0.069692\n",
       "total_acc               0.000000\n",
       "initial_list_status     0.000000\n",
       "application_type        0.000000\n",
       "mort_acc                9.543469\n",
       "pub_rec_bankruptcies    0.135091\n",
       "address                 0.000000\n",
       "dtype: float64"
      ]
     },
     "execution_count": 34,
     "metadata": {},
     "output_type": "execute_result"
    }
   ],
   "source": [
    "# checking the Missing Values\n",
    "df.isnull().sum()*100/len(df)"
   ]
  },
  {
   "cell_type": "markdown",
   "id": "aba32aea",
   "metadata": {},
   "source": [
    "# Filling Missing Values"
   ]
  },
  {
   "cell_type": "markdown",
   "id": "e03f3b25",
   "metadata": {},
   "source": [
    "## Emp title"
   ]
  },
  {
   "cell_type": "code",
   "execution_count": 35,
   "id": "91b98b42",
   "metadata": {},
   "outputs": [
    {
     "data": {
      "text/plain": [
       "173105"
      ]
     },
     "execution_count": 35,
     "metadata": {},
     "output_type": "execute_result"
    }
   ],
   "source": [
    "df['emp_title'].nunique()"
   ]
  },
  {
   "cell_type": "code",
   "execution_count": 36,
   "id": "d5c02e3d",
   "metadata": {},
   "outputs": [
    {
     "data": {
      "text/plain": [
       "(396030, 27)"
      ]
     },
     "execution_count": 36,
     "metadata": {},
     "output_type": "execute_result"
    }
   ],
   "source": [
    "df.shape"
   ]
  },
  {
   "cell_type": "code",
   "execution_count": 37,
   "id": "8549ec10",
   "metadata": {},
   "outputs": [],
   "source": [
    "df.drop(\"emp_title\", axis=1,inplace= True)"
   ]
  },
  {
   "cell_type": "code",
   "execution_count": 38,
   "id": "da11fb8c",
   "metadata": {},
   "outputs": [
    {
     "data": {
      "text/plain": [
       "loan_amnt               0.000000\n",
       "term                    0.000000\n",
       "int_rate                0.000000\n",
       "installment             0.000000\n",
       "grade                   0.000000\n",
       "sub_grade               0.000000\n",
       "emp_length              4.621115\n",
       "home_ownership          0.000000\n",
       "annual_inc              0.000000\n",
       "verification_status     0.000000\n",
       "issue_d                 0.000000\n",
       "loan_status             0.000000\n",
       "purpose                 0.000000\n",
       "title                   0.443148\n",
       "dti                     0.000000\n",
       "earliest_cr_line        0.000000\n",
       "open_acc                0.000000\n",
       "pub_rec                 0.000000\n",
       "revol_bal               0.000000\n",
       "revol_util              0.069692\n",
       "total_acc               0.000000\n",
       "initial_list_status     0.000000\n",
       "application_type        0.000000\n",
       "mort_acc                9.543469\n",
       "pub_rec_bankruptcies    0.135091\n",
       "address                 0.000000\n",
       "dtype: float64"
      ]
     },
     "execution_count": 38,
     "metadata": {},
     "output_type": "execute_result"
    }
   ],
   "source": [
    "df.isnull().sum()*100/len(df)"
   ]
  },
  {
   "cell_type": "markdown",
   "id": "0b827572",
   "metadata": {},
   "source": [
    "## emp_length"
   ]
  },
  {
   "cell_type": "code",
   "execution_count": 39,
   "id": "52cdaf61",
   "metadata": {},
   "outputs": [
    {
     "data": {
      "text/plain": [
       "array(['10+ years', '4 years', '< 1 year', '6 years', '9 years',\n",
       "       '2 years', '3 years', '8 years', '7 years', '5 years', '1 year',\n",
       "       nan], dtype=object)"
      ]
     },
     "execution_count": 39,
     "metadata": {},
     "output_type": "execute_result"
    }
   ],
   "source": [
    "df['emp_length'].unique()"
   ]
  },
  {
   "cell_type": "code",
   "execution_count": 40,
   "id": "2489bfcc",
   "metadata": {},
   "outputs": [],
   "source": [
    "df.drop(\"emp_length\", axis=1,inplace= True)"
   ]
  },
  {
   "cell_type": "code",
   "execution_count": 41,
   "id": "acae0b6f",
   "metadata": {},
   "outputs": [
    {
     "data": {
      "text/plain": [
       "loan_amnt               0.000000\n",
       "term                    0.000000\n",
       "int_rate                0.000000\n",
       "installment             0.000000\n",
       "grade                   0.000000\n",
       "sub_grade               0.000000\n",
       "home_ownership          0.000000\n",
       "annual_inc              0.000000\n",
       "verification_status     0.000000\n",
       "issue_d                 0.000000\n",
       "loan_status             0.000000\n",
       "purpose                 0.000000\n",
       "title                   0.443148\n",
       "dti                     0.000000\n",
       "earliest_cr_line        0.000000\n",
       "open_acc                0.000000\n",
       "pub_rec                 0.000000\n",
       "revol_bal               0.000000\n",
       "revol_util              0.069692\n",
       "total_acc               0.000000\n",
       "initial_list_status     0.000000\n",
       "application_type        0.000000\n",
       "mort_acc                9.543469\n",
       "pub_rec_bankruptcies    0.135091\n",
       "address                 0.000000\n",
       "dtype: float64"
      ]
     },
     "execution_count": 41,
     "metadata": {},
     "output_type": "execute_result"
    }
   ],
   "source": [
    "df.isnull().sum()*100/len(df)"
   ]
  },
  {
   "cell_type": "markdown",
   "id": "3c6b4c38",
   "metadata": {},
   "source": [
    "## title column"
   ]
  },
  {
   "cell_type": "code",
   "execution_count": 42,
   "id": "5fa93cf5",
   "metadata": {},
   "outputs": [
    {
     "data": {
      "text/plain": [
       "48817"
      ]
     },
     "execution_count": 42,
     "metadata": {},
     "output_type": "execute_result"
    }
   ],
   "source": [
    "df['title'].nunique()"
   ]
  },
  {
   "cell_type": "code",
   "execution_count": 43,
   "id": "6480d9fd",
   "metadata": {},
   "outputs": [
    {
     "data": {
      "text/plain": [
       "0                   vacation\n",
       "1         debt_consolidation\n",
       "2                credit_card\n",
       "3                credit_card\n",
       "4                credit_card\n",
       "                 ...        \n",
       "396025    debt_consolidation\n",
       "396026    debt_consolidation\n",
       "396027    debt_consolidation\n",
       "396028    debt_consolidation\n",
       "396029    debt_consolidation\n",
       "Name: purpose, Length: 396030, dtype: object"
      ]
     },
     "execution_count": 43,
     "metadata": {},
     "output_type": "execute_result"
    }
   ],
   "source": [
    "# purpose is the duplicate variable same as title with less unique values  \n",
    "df['purpose']"
   ]
  },
  {
   "cell_type": "code",
   "execution_count": 44,
   "id": "cb72eea7",
   "metadata": {},
   "outputs": [],
   "source": [
    "df.drop(\"title\", axis=1, inplace= True)"
   ]
  },
  {
   "cell_type": "code",
   "execution_count": 45,
   "id": "b039d93e",
   "metadata": {},
   "outputs": [
    {
     "data": {
      "text/plain": [
       "loan_amnt               0.000000\n",
       "term                    0.000000\n",
       "int_rate                0.000000\n",
       "installment             0.000000\n",
       "grade                   0.000000\n",
       "sub_grade               0.000000\n",
       "home_ownership          0.000000\n",
       "annual_inc              0.000000\n",
       "verification_status     0.000000\n",
       "issue_d                 0.000000\n",
       "loan_status             0.000000\n",
       "purpose                 0.000000\n",
       "dti                     0.000000\n",
       "earliest_cr_line        0.000000\n",
       "open_acc                0.000000\n",
       "pub_rec                 0.000000\n",
       "revol_bal               0.000000\n",
       "revol_util              0.069692\n",
       "total_acc               0.000000\n",
       "initial_list_status     0.000000\n",
       "application_type        0.000000\n",
       "mort_acc                9.543469\n",
       "pub_rec_bankruptcies    0.135091\n",
       "address                 0.000000\n",
       "dtype: float64"
      ]
     },
     "execution_count": 45,
     "metadata": {},
     "output_type": "execute_result"
    }
   ],
   "source": [
    "df.isnull().sum()*100/len(df)"
   ]
  },
  {
   "cell_type": "markdown",
   "id": "dd0d4c02",
   "metadata": {},
   "source": [
    "## mort_acc\n",
    "### we are using mean to fill the missing values"
   ]
  },
  {
   "cell_type": "code",
   "execution_count": 46,
   "id": "b58027c7",
   "metadata": {},
   "outputs": [],
   "source": [
    "df[\"mort_acc\"]=df[\"mort_acc\"].fillna(np.mean(df[\"mort_acc\"]))"
   ]
  },
  {
   "cell_type": "code",
   "execution_count": 47,
   "id": "0eede757",
   "metadata": {},
   "outputs": [
    {
     "data": {
      "text/plain": [
       "loan_amnt               0.000000\n",
       "term                    0.000000\n",
       "int_rate                0.000000\n",
       "installment             0.000000\n",
       "grade                   0.000000\n",
       "sub_grade               0.000000\n",
       "home_ownership          0.000000\n",
       "annual_inc              0.000000\n",
       "verification_status     0.000000\n",
       "issue_d                 0.000000\n",
       "loan_status             0.000000\n",
       "purpose                 0.000000\n",
       "dti                     0.000000\n",
       "earliest_cr_line        0.000000\n",
       "open_acc                0.000000\n",
       "pub_rec                 0.000000\n",
       "revol_bal               0.000000\n",
       "revol_util              0.069692\n",
       "total_acc               0.000000\n",
       "initial_list_status     0.000000\n",
       "application_type        0.000000\n",
       "mort_acc                0.000000\n",
       "pub_rec_bankruptcies    0.135091\n",
       "address                 0.000000\n",
       "dtype: float64"
      ]
     },
     "execution_count": 47,
     "metadata": {},
     "output_type": "execute_result"
    }
   ],
   "source": [
    "df.isnull().sum()*100/len(df)"
   ]
  },
  {
   "cell_type": "markdown",
   "id": "e4ae3f5c",
   "metadata": {},
   "source": [
    "dropping the rest values which have the missing data less than the -1\n"
   ]
  },
  {
   "cell_type": "code",
   "execution_count": 48,
   "id": "5b76a8ca",
   "metadata": {},
   "outputs": [],
   "source": [
    "df.dropna(inplace=True)"
   ]
  },
  {
   "cell_type": "code",
   "execution_count": 49,
   "id": "c7082c60",
   "metadata": {},
   "outputs": [
    {
     "data": {
      "text/plain": [
       "loan_amnt               0.0\n",
       "term                    0.0\n",
       "int_rate                0.0\n",
       "installment             0.0\n",
       "grade                   0.0\n",
       "sub_grade               0.0\n",
       "home_ownership          0.0\n",
       "annual_inc              0.0\n",
       "verification_status     0.0\n",
       "issue_d                 0.0\n",
       "loan_status             0.0\n",
       "purpose                 0.0\n",
       "dti                     0.0\n",
       "earliest_cr_line        0.0\n",
       "open_acc                0.0\n",
       "pub_rec                 0.0\n",
       "revol_bal               0.0\n",
       "revol_util              0.0\n",
       "total_acc               0.0\n",
       "initial_list_status     0.0\n",
       "application_type        0.0\n",
       "mort_acc                0.0\n",
       "pub_rec_bankruptcies    0.0\n",
       "address                 0.0\n",
       "dtype: float64"
      ]
     },
     "execution_count": 49,
     "metadata": {},
     "output_type": "execute_result"
    }
   ],
   "source": [
    "df.isnull().sum()*100/len(df)"
   ]
  },
  {
   "cell_type": "markdown",
   "id": "9851ef3d",
   "metadata": {},
   "source": [
    "# Feature Engineering \n",
    "### means when we try to extract the meaningful data from those data which doesnt seem meaningful at all \n"
   ]
  },
  {
   "cell_type": "code",
   "execution_count": 50,
   "id": "f9ce8722",
   "metadata": {},
   "outputs": [
    {
     "data": {
      "text/plain": [
       "Index(['term', 'grade', 'sub_grade', 'home_ownership', 'verification_status',\n",
       "       'issue_d', 'purpose', 'earliest_cr_line', 'initial_list_status',\n",
       "       'application_type', 'address'],\n",
       "      dtype='object')"
      ]
     },
     "execution_count": 50,
     "metadata": {},
     "output_type": "execute_result"
    }
   ],
   "source": [
    "# printing all the categorical data from the data set\n",
    "df.select_dtypes(['object']).columns"
   ]
  },
  {
   "cell_type": "markdown",
   "id": "c9f3903f",
   "metadata": {},
   "source": [
    "Now, we are trying to grab the features out of all the data present"
   ]
  },
  {
   "cell_type": "code",
   "execution_count": 54,
   "id": "892619d3",
   "metadata": {},
   "outputs": [
    {
     "data": {
      "text/plain": [
       "0          36 months\n",
       "1          36 months\n",
       "2          36 months\n",
       "3          36 months\n",
       "4          60 months\n",
       "             ...    \n",
       "396025     60 months\n",
       "396026     36 months\n",
       "396027     36 months\n",
       "396028     60 months\n",
       "396029     36 months\n",
       "Name: term, Length: 395219, dtype: object"
      ]
     },
     "execution_count": 54,
     "metadata": {},
     "output_type": "execute_result"
    }
   ],
   "source": [
    "df['term']"
   ]
  },
  {
   "cell_type": "code",
   "execution_count": 56,
   "id": "bf04b8d5",
   "metadata": {},
   "outputs": [],
   "source": [
    "df['term'] = df['term'].apply(lambda x : int(x[:3]))"
   ]
  },
  {
   "cell_type": "code",
   "execution_count": 58,
   "id": "198fd83d",
   "metadata": {},
   "outputs": [
    {
     "data": {
      "text/plain": [
       "0         B\n",
       "1         B\n",
       "2         B\n",
       "3         A\n",
       "4         C\n",
       "         ..\n",
       "396025    B\n",
       "396026    C\n",
       "396027    B\n",
       "396028    C\n",
       "396029    C\n",
       "Name: grade, Length: 395219, dtype: object"
      ]
     },
     "execution_count": 58,
     "metadata": {},
     "output_type": "execute_result"
    }
   ],
   "source": [
    "df['grade']"
   ]
  },
  {
   "cell_type": "code",
   "execution_count": 59,
   "id": "75bf2ab9",
   "metadata": {},
   "outputs": [
    {
     "data": {
      "text/plain": [
       "0         B4\n",
       "1         B5\n",
       "2         B3\n",
       "3         A2\n",
       "4         C5\n",
       "          ..\n",
       "396025    B4\n",
       "396026    C1\n",
       "396027    B1\n",
       "396028    C2\n",
       "396029    C2\n",
       "Name: sub_grade, Length: 395219, dtype: object"
      ]
     },
     "execution_count": 59,
     "metadata": {},
     "output_type": "execute_result"
    }
   ],
   "source": [
    "df['sub_grade']"
   ]
  },
  {
   "cell_type": "markdown",
   "id": "b46a890b",
   "metadata": {},
   "source": [
    "sub_grade column derived from grade so we can drop either of them"
   ]
  },
  {
   "cell_type": "code",
   "execution_count": 61,
   "id": "44d3a372",
   "metadata": {},
   "outputs": [],
   "source": [
    "df.drop('sub_grade',axis =1, inplace = True)"
   ]
  },
  {
   "cell_type": "code",
   "execution_count": 65,
   "id": "760b3a41",
   "metadata": {},
   "outputs": [
    {
     "data": {
      "text/plain": [
       "MORTGAGE    198022\n",
       "RENT        159395\n",
       "OWN          37660\n",
       "OTHER          110\n",
       "NONE            29\n",
       "ANY              3\n",
       "Name: home_ownership, dtype: int64"
      ]
     },
     "execution_count": 65,
     "metadata": {},
     "output_type": "execute_result"
    }
   ],
   "source": [
    "df['home_ownership'].value_counts()"
   ]
  },
  {
   "cell_type": "code",
   "execution_count": 66,
   "id": "3ce377f1",
   "metadata": {},
   "outputs": [],
   "source": [
    "df[\"home_ownership\"] = df['home_ownership'].replace(['NONE','ANY'], \"OTHER\")"
   ]
  },
  {
   "cell_type": "code",
   "execution_count": 67,
   "id": "c9275f4a",
   "metadata": {},
   "outputs": [
    {
     "data": {
      "text/plain": [
       "MORTGAGE    198022\n",
       "RENT        159395\n",
       "OWN          37660\n",
       "OTHER          142\n",
       "Name: home_ownership, dtype: int64"
      ]
     },
     "execution_count": 67,
     "metadata": {},
     "output_type": "execute_result"
    }
   ],
   "source": [
    "df['home_ownership'].value_counts()"
   ]
  },
  {
   "cell_type": "code",
   "execution_count": 68,
   "id": "c11035e0",
   "metadata": {},
   "outputs": [
    {
     "data": {
      "text/plain": [
       "0              0174 Michelle Gateway\\nMendozaberg, OK 22690\n",
       "1           1076 Carney Fort Apt. 347\\nLoganmouth, SD 05113\n",
       "2           87025 Mark Dale Apt. 269\\nNew Sabrina, WV 05113\n",
       "3                     823 Reid Ford\\nDelacruzside, MA 00813\n",
       "4                      679 Luna Roads\\nGreggshire, VA 11650\n",
       "                                ...                        \n",
       "396025       12951 Williams Crossing\\nJohnnyville, DC 30723\n",
       "396026    0114 Fowler Field Suite 028\\nRachelborough, LA...\n",
       "396027     953 Matthew Points Suite 414\\nReedfort, NY 70466\n",
       "396028    7843 Blake Freeway Apt. 229\\nNew Michael, FL 2...\n",
       "396029          787 Michelle Causeway\\nBriannaton, AR 48052\n",
       "Name: address, Length: 395219, dtype: object"
      ]
     },
     "execution_count": 68,
     "metadata": {},
     "output_type": "execute_result"
    }
   ],
   "source": [
    "df['address']"
   ]
  },
  {
   "cell_type": "code",
   "execution_count": 71,
   "id": "a821831a",
   "metadata": {},
   "outputs": [],
   "source": [
    "df['zip'] = df['address'].apply(lambda x: x[-5:])"
   ]
  },
  {
   "cell_type": "code",
   "execution_count": 72,
   "id": "f9b94b06",
   "metadata": {},
   "outputs": [
    {
     "data": {
      "text/plain": [
       "0         22690\n",
       "1         05113\n",
       "2         05113\n",
       "3         00813\n",
       "4         11650\n",
       "          ...  \n",
       "396025    30723\n",
       "396026    05113\n",
       "396027    70466\n",
       "396028    29597\n",
       "396029    48052\n",
       "Name: zip, Length: 395219, dtype: object"
      ]
     },
     "execution_count": 72,
     "metadata": {},
     "output_type": "execute_result"
    }
   ],
   "source": [
    "df['zip']"
   ]
  },
  {
   "cell_type": "code",
   "execution_count": 73,
   "id": "d3ae603f",
   "metadata": {},
   "outputs": [],
   "source": [
    "df.drop('address',axis=1, inplace=True)"
   ]
  },
  {
   "cell_type": "code",
   "execution_count": 74,
   "id": "c388e3d5",
   "metadata": {},
   "outputs": [
    {
     "data": {
      "text/plain": [
       "0         Jun-1990\n",
       "1         Jul-2004\n",
       "2         Aug-2007\n",
       "3         Sep-2006\n",
       "4         Mar-1999\n",
       "            ...   \n",
       "396025    Nov-2004\n",
       "396026    Feb-2006\n",
       "396027    Mar-1997\n",
       "396028    Nov-1990\n",
       "396029    Sep-1998\n",
       "Name: earliest_cr_line, Length: 395219, dtype: object"
      ]
     },
     "execution_count": 74,
     "metadata": {},
     "output_type": "execute_result"
    }
   ],
   "source": [
    "df['earliest_cr_line']"
   ]
  },
  {
   "cell_type": "code",
   "execution_count": 75,
   "id": "575ce65e",
   "metadata": {},
   "outputs": [],
   "source": [
    "df['earliest_cr_line'] = df['earliest_cr_line'].apply(lambda x : x[-4:])"
   ]
  },
  {
   "cell_type": "code",
   "execution_count": 76,
   "id": "0e01180e",
   "metadata": {},
   "outputs": [
    {
     "data": {
      "text/plain": [
       "0         1990\n",
       "1         2004\n",
       "2         2007\n",
       "3         2006\n",
       "4         1999\n",
       "          ... \n",
       "396025    2004\n",
       "396026    2006\n",
       "396027    1997\n",
       "396028    1990\n",
       "396029    1998\n",
       "Name: earliest_cr_line, Length: 395219, dtype: object"
      ]
     },
     "execution_count": 76,
     "metadata": {},
     "output_type": "execute_result"
    }
   ],
   "source": [
    "df['earliest_cr_line']"
   ]
  },
  {
   "cell_type": "code",
   "execution_count": 79,
   "id": "c8d245f0",
   "metadata": {},
   "outputs": [
    {
     "data": {
      "text/plain": [
       "0.0     337489\n",
       "1.0      49713\n",
       "2.0       5474\n",
       "3.0       1521\n",
       "4.0        527\n",
       "5.0        237\n",
       "6.0        122\n",
       "7.0         56\n",
       "8.0         34\n",
       "9.0         12\n",
       "10.0        11\n",
       "11.0         8\n",
       "13.0         4\n",
       "12.0         4\n",
       "19.0         2\n",
       "40.0         1\n",
       "17.0         1\n",
       "86.0         1\n",
       "24.0         1\n",
       "15.0         1\n",
       "Name: pub_rec, dtype: int64"
      ]
     },
     "execution_count": 79,
     "metadata": {},
     "output_type": "execute_result"
    }
   ],
   "source": [
    "df['pub_rec'].value_counts() # 0 is good customer and everything else is bad customer"
   ]
  },
  {
   "cell_type": "code",
   "execution_count": 81,
   "id": "4815dfd1",
   "metadata": {},
   "outputs": [],
   "source": [
    "df['pub_rec'] = df['pub_rec'].apply(lambda x : 0 if x==0 else 1)"
   ]
  },
  {
   "cell_type": "code",
   "execution_count": 83,
   "id": "6693570c",
   "metadata": {},
   "outputs": [
    {
     "data": {
      "text/plain": [
       "0    337489\n",
       "1     57730\n",
       "Name: pub_rec, dtype: int64"
      ]
     },
     "execution_count": 83,
     "metadata": {},
     "output_type": "execute_result"
    }
   ],
   "source": [
    "df['pub_rec'].value_counts()"
   ]
  },
  {
   "cell_type": "code",
   "execution_count": 84,
   "id": "77f06231",
   "metadata": {},
   "outputs": [
    {
     "data": {
      "text/html": [
       "<div>\n",
       "<style scoped>\n",
       "    .dataframe tbody tr th:only-of-type {\n",
       "        vertical-align: middle;\n",
       "    }\n",
       "\n",
       "    .dataframe tbody tr th {\n",
       "        vertical-align: top;\n",
       "    }\n",
       "\n",
       "    .dataframe thead th {\n",
       "        text-align: right;\n",
       "    }\n",
       "</style>\n",
       "<table border=\"1\" class=\"dataframe\">\n",
       "  <thead>\n",
       "    <tr style=\"text-align: right;\">\n",
       "      <th></th>\n",
       "      <th>loan_amnt</th>\n",
       "      <th>term</th>\n",
       "      <th>int_rate</th>\n",
       "      <th>installment</th>\n",
       "      <th>grade</th>\n",
       "      <th>home_ownership</th>\n",
       "      <th>annual_inc</th>\n",
       "      <th>verification_status</th>\n",
       "      <th>issue_d</th>\n",
       "      <th>loan_status</th>\n",
       "      <th>...</th>\n",
       "      <th>open_acc</th>\n",
       "      <th>pub_rec</th>\n",
       "      <th>revol_bal</th>\n",
       "      <th>revol_util</th>\n",
       "      <th>total_acc</th>\n",
       "      <th>initial_list_status</th>\n",
       "      <th>application_type</th>\n",
       "      <th>mort_acc</th>\n",
       "      <th>pub_rec_bankruptcies</th>\n",
       "      <th>zip</th>\n",
       "    </tr>\n",
       "  </thead>\n",
       "  <tbody>\n",
       "    <tr>\n",
       "      <th>0</th>\n",
       "      <td>10000.0</td>\n",
       "      <td>36</td>\n",
       "      <td>11.44</td>\n",
       "      <td>329.48</td>\n",
       "      <td>B</td>\n",
       "      <td>RENT</td>\n",
       "      <td>117000.0</td>\n",
       "      <td>Not Verified</td>\n",
       "      <td>Jan-2015</td>\n",
       "      <td>1</td>\n",
       "      <td>...</td>\n",
       "      <td>16.0</td>\n",
       "      <td>0</td>\n",
       "      <td>36369.0</td>\n",
       "      <td>41.8</td>\n",
       "      <td>25.0</td>\n",
       "      <td>w</td>\n",
       "      <td>INDIVIDUAL</td>\n",
       "      <td>0.000000</td>\n",
       "      <td>0.0</td>\n",
       "      <td>22690</td>\n",
       "    </tr>\n",
       "    <tr>\n",
       "      <th>1</th>\n",
       "      <td>8000.0</td>\n",
       "      <td>36</td>\n",
       "      <td>11.99</td>\n",
       "      <td>265.68</td>\n",
       "      <td>B</td>\n",
       "      <td>MORTGAGE</td>\n",
       "      <td>65000.0</td>\n",
       "      <td>Not Verified</td>\n",
       "      <td>Jan-2015</td>\n",
       "      <td>1</td>\n",
       "      <td>...</td>\n",
       "      <td>17.0</td>\n",
       "      <td>0</td>\n",
       "      <td>20131.0</td>\n",
       "      <td>53.3</td>\n",
       "      <td>27.0</td>\n",
       "      <td>f</td>\n",
       "      <td>INDIVIDUAL</td>\n",
       "      <td>3.000000</td>\n",
       "      <td>0.0</td>\n",
       "      <td>05113</td>\n",
       "    </tr>\n",
       "    <tr>\n",
       "      <th>2</th>\n",
       "      <td>15600.0</td>\n",
       "      <td>36</td>\n",
       "      <td>10.49</td>\n",
       "      <td>506.97</td>\n",
       "      <td>B</td>\n",
       "      <td>RENT</td>\n",
       "      <td>43057.0</td>\n",
       "      <td>Source Verified</td>\n",
       "      <td>Jan-2015</td>\n",
       "      <td>1</td>\n",
       "      <td>...</td>\n",
       "      <td>13.0</td>\n",
       "      <td>0</td>\n",
       "      <td>11987.0</td>\n",
       "      <td>92.2</td>\n",
       "      <td>26.0</td>\n",
       "      <td>f</td>\n",
       "      <td>INDIVIDUAL</td>\n",
       "      <td>0.000000</td>\n",
       "      <td>0.0</td>\n",
       "      <td>05113</td>\n",
       "    </tr>\n",
       "    <tr>\n",
       "      <th>3</th>\n",
       "      <td>7200.0</td>\n",
       "      <td>36</td>\n",
       "      <td>6.49</td>\n",
       "      <td>220.65</td>\n",
       "      <td>A</td>\n",
       "      <td>RENT</td>\n",
       "      <td>54000.0</td>\n",
       "      <td>Not Verified</td>\n",
       "      <td>Nov-2014</td>\n",
       "      <td>1</td>\n",
       "      <td>...</td>\n",
       "      <td>6.0</td>\n",
       "      <td>0</td>\n",
       "      <td>5472.0</td>\n",
       "      <td>21.5</td>\n",
       "      <td>13.0</td>\n",
       "      <td>f</td>\n",
       "      <td>INDIVIDUAL</td>\n",
       "      <td>0.000000</td>\n",
       "      <td>0.0</td>\n",
       "      <td>00813</td>\n",
       "    </tr>\n",
       "    <tr>\n",
       "      <th>4</th>\n",
       "      <td>24375.0</td>\n",
       "      <td>60</td>\n",
       "      <td>17.27</td>\n",
       "      <td>609.33</td>\n",
       "      <td>C</td>\n",
       "      <td>MORTGAGE</td>\n",
       "      <td>55000.0</td>\n",
       "      <td>Verified</td>\n",
       "      <td>Apr-2013</td>\n",
       "      <td>0</td>\n",
       "      <td>...</td>\n",
       "      <td>13.0</td>\n",
       "      <td>0</td>\n",
       "      <td>24584.0</td>\n",
       "      <td>69.8</td>\n",
       "      <td>43.0</td>\n",
       "      <td>f</td>\n",
       "      <td>INDIVIDUAL</td>\n",
       "      <td>1.000000</td>\n",
       "      <td>0.0</td>\n",
       "      <td>11650</td>\n",
       "    </tr>\n",
       "    <tr>\n",
       "      <th>...</th>\n",
       "      <td>...</td>\n",
       "      <td>...</td>\n",
       "      <td>...</td>\n",
       "      <td>...</td>\n",
       "      <td>...</td>\n",
       "      <td>...</td>\n",
       "      <td>...</td>\n",
       "      <td>...</td>\n",
       "      <td>...</td>\n",
       "      <td>...</td>\n",
       "      <td>...</td>\n",
       "      <td>...</td>\n",
       "      <td>...</td>\n",
       "      <td>...</td>\n",
       "      <td>...</td>\n",
       "      <td>...</td>\n",
       "      <td>...</td>\n",
       "      <td>...</td>\n",
       "      <td>...</td>\n",
       "      <td>...</td>\n",
       "      <td>...</td>\n",
       "    </tr>\n",
       "    <tr>\n",
       "      <th>396025</th>\n",
       "      <td>10000.0</td>\n",
       "      <td>60</td>\n",
       "      <td>10.99</td>\n",
       "      <td>217.38</td>\n",
       "      <td>B</td>\n",
       "      <td>RENT</td>\n",
       "      <td>40000.0</td>\n",
       "      <td>Source Verified</td>\n",
       "      <td>Oct-2015</td>\n",
       "      <td>1</td>\n",
       "      <td>...</td>\n",
       "      <td>6.0</td>\n",
       "      <td>0</td>\n",
       "      <td>1990.0</td>\n",
       "      <td>34.3</td>\n",
       "      <td>23.0</td>\n",
       "      <td>w</td>\n",
       "      <td>INDIVIDUAL</td>\n",
       "      <td>0.000000</td>\n",
       "      <td>0.0</td>\n",
       "      <td>30723</td>\n",
       "    </tr>\n",
       "    <tr>\n",
       "      <th>396026</th>\n",
       "      <td>21000.0</td>\n",
       "      <td>36</td>\n",
       "      <td>12.29</td>\n",
       "      <td>700.42</td>\n",
       "      <td>C</td>\n",
       "      <td>MORTGAGE</td>\n",
       "      <td>110000.0</td>\n",
       "      <td>Source Verified</td>\n",
       "      <td>Feb-2015</td>\n",
       "      <td>1</td>\n",
       "      <td>...</td>\n",
       "      <td>6.0</td>\n",
       "      <td>0</td>\n",
       "      <td>43263.0</td>\n",
       "      <td>95.7</td>\n",
       "      <td>8.0</td>\n",
       "      <td>f</td>\n",
       "      <td>INDIVIDUAL</td>\n",
       "      <td>1.000000</td>\n",
       "      <td>0.0</td>\n",
       "      <td>05113</td>\n",
       "    </tr>\n",
       "    <tr>\n",
       "      <th>396027</th>\n",
       "      <td>5000.0</td>\n",
       "      <td>36</td>\n",
       "      <td>9.99</td>\n",
       "      <td>161.32</td>\n",
       "      <td>B</td>\n",
       "      <td>RENT</td>\n",
       "      <td>56500.0</td>\n",
       "      <td>Verified</td>\n",
       "      <td>Oct-2013</td>\n",
       "      <td>1</td>\n",
       "      <td>...</td>\n",
       "      <td>15.0</td>\n",
       "      <td>0</td>\n",
       "      <td>32704.0</td>\n",
       "      <td>66.9</td>\n",
       "      <td>23.0</td>\n",
       "      <td>f</td>\n",
       "      <td>INDIVIDUAL</td>\n",
       "      <td>0.000000</td>\n",
       "      <td>0.0</td>\n",
       "      <td>70466</td>\n",
       "    </tr>\n",
       "    <tr>\n",
       "      <th>396028</th>\n",
       "      <td>21000.0</td>\n",
       "      <td>60</td>\n",
       "      <td>15.31</td>\n",
       "      <td>503.02</td>\n",
       "      <td>C</td>\n",
       "      <td>MORTGAGE</td>\n",
       "      <td>64000.0</td>\n",
       "      <td>Verified</td>\n",
       "      <td>Aug-2012</td>\n",
       "      <td>1</td>\n",
       "      <td>...</td>\n",
       "      <td>9.0</td>\n",
       "      <td>0</td>\n",
       "      <td>15704.0</td>\n",
       "      <td>53.8</td>\n",
       "      <td>20.0</td>\n",
       "      <td>f</td>\n",
       "      <td>INDIVIDUAL</td>\n",
       "      <td>5.000000</td>\n",
       "      <td>0.0</td>\n",
       "      <td>29597</td>\n",
       "    </tr>\n",
       "    <tr>\n",
       "      <th>396029</th>\n",
       "      <td>2000.0</td>\n",
       "      <td>36</td>\n",
       "      <td>13.61</td>\n",
       "      <td>67.98</td>\n",
       "      <td>C</td>\n",
       "      <td>RENT</td>\n",
       "      <td>42996.0</td>\n",
       "      <td>Verified</td>\n",
       "      <td>Jun-2010</td>\n",
       "      <td>1</td>\n",
       "      <td>...</td>\n",
       "      <td>3.0</td>\n",
       "      <td>0</td>\n",
       "      <td>4292.0</td>\n",
       "      <td>91.3</td>\n",
       "      <td>19.0</td>\n",
       "      <td>f</td>\n",
       "      <td>INDIVIDUAL</td>\n",
       "      <td>1.813991</td>\n",
       "      <td>0.0</td>\n",
       "      <td>48052</td>\n",
       "    </tr>\n",
       "  </tbody>\n",
       "</table>\n",
       "<p>395219 rows × 23 columns</p>\n",
       "</div>"
      ],
      "text/plain": [
       "        loan_amnt  term  int_rate  installment grade home_ownership  \\\n",
       "0         10000.0    36     11.44       329.48     B           RENT   \n",
       "1          8000.0    36     11.99       265.68     B       MORTGAGE   \n",
       "2         15600.0    36     10.49       506.97     B           RENT   \n",
       "3          7200.0    36      6.49       220.65     A           RENT   \n",
       "4         24375.0    60     17.27       609.33     C       MORTGAGE   \n",
       "...           ...   ...       ...          ...   ...            ...   \n",
       "396025    10000.0    60     10.99       217.38     B           RENT   \n",
       "396026    21000.0    36     12.29       700.42     C       MORTGAGE   \n",
       "396027     5000.0    36      9.99       161.32     B           RENT   \n",
       "396028    21000.0    60     15.31       503.02     C       MORTGAGE   \n",
       "396029     2000.0    36     13.61        67.98     C           RENT   \n",
       "\n",
       "        annual_inc verification_status   issue_d  loan_status  ... open_acc  \\\n",
       "0         117000.0        Not Verified  Jan-2015            1  ...     16.0   \n",
       "1          65000.0        Not Verified  Jan-2015            1  ...     17.0   \n",
       "2          43057.0     Source Verified  Jan-2015            1  ...     13.0   \n",
       "3          54000.0        Not Verified  Nov-2014            1  ...      6.0   \n",
       "4          55000.0            Verified  Apr-2013            0  ...     13.0   \n",
       "...            ...                 ...       ...          ...  ...      ...   \n",
       "396025     40000.0     Source Verified  Oct-2015            1  ...      6.0   \n",
       "396026    110000.0     Source Verified  Feb-2015            1  ...      6.0   \n",
       "396027     56500.0            Verified  Oct-2013            1  ...     15.0   \n",
       "396028     64000.0            Verified  Aug-2012            1  ...      9.0   \n",
       "396029     42996.0            Verified  Jun-2010            1  ...      3.0   \n",
       "\n",
       "        pub_rec revol_bal  revol_util  total_acc  initial_list_status  \\\n",
       "0             0   36369.0        41.8       25.0                    w   \n",
       "1             0   20131.0        53.3       27.0                    f   \n",
       "2             0   11987.0        92.2       26.0                    f   \n",
       "3             0    5472.0        21.5       13.0                    f   \n",
       "4             0   24584.0        69.8       43.0                    f   \n",
       "...         ...       ...         ...        ...                  ...   \n",
       "396025        0    1990.0        34.3       23.0                    w   \n",
       "396026        0   43263.0        95.7        8.0                    f   \n",
       "396027        0   32704.0        66.9       23.0                    f   \n",
       "396028        0   15704.0        53.8       20.0                    f   \n",
       "396029        0    4292.0        91.3       19.0                    f   \n",
       "\n",
       "        application_type  mort_acc pub_rec_bankruptcies    zip  \n",
       "0             INDIVIDUAL  0.000000                  0.0  22690  \n",
       "1             INDIVIDUAL  3.000000                  0.0  05113  \n",
       "2             INDIVIDUAL  0.000000                  0.0  05113  \n",
       "3             INDIVIDUAL  0.000000                  0.0  00813  \n",
       "4             INDIVIDUAL  1.000000                  0.0  11650  \n",
       "...                  ...       ...                  ...    ...  \n",
       "396025        INDIVIDUAL  0.000000                  0.0  30723  \n",
       "396026        INDIVIDUAL  1.000000                  0.0  05113  \n",
       "396027        INDIVIDUAL  0.000000                  0.0  70466  \n",
       "396028        INDIVIDUAL  5.000000                  0.0  29597  \n",
       "396029        INDIVIDUAL  1.813991                  0.0  48052  \n",
       "\n",
       "[395219 rows x 23 columns]"
      ]
     },
     "execution_count": 84,
     "metadata": {},
     "output_type": "execute_result"
    }
   ],
   "source": [
    "df"
   ]
  },
  {
   "cell_type": "markdown",
   "id": "3db7af1c",
   "metadata": {},
   "source": [
    "## Converting Cateogorical Data into Numerical \n",
    "### we will use the Numerical Encoding "
   ]
  },
  {
   "cell_type": "code",
   "execution_count": 90,
   "id": "703932e4",
   "metadata": {},
   "outputs": [
    {
     "data": {
      "text/plain": [
       "Index(['grade', 'home_ownership', 'verification_status', 'issue_d', 'purpose',\n",
       "       'earliest_cr_line', 'initial_list_status', 'application_type', 'zip'],\n",
       "      dtype='object')"
      ]
     },
     "execution_count": 90,
     "metadata": {},
     "output_type": "execute_result"
    }
   ],
   "source": [
    "cols = df.select_dtypes(['object']).columns\n",
    "cols"
   ]
  },
  {
   "cell_type": "code",
   "execution_count": 95,
   "id": "6d0d30e7",
   "metadata": {},
   "outputs": [],
   "source": [
    "def ordinal_mapper(data,var):\n",
    "    ordinal_map = {k:i for i,k in enumerate(data[var].unique(),0)}\n",
    "    data[var] = data[var].map(ordinal_map)"
   ]
  },
  {
   "cell_type": "code",
   "execution_count": 96,
   "id": "b85dc7a3",
   "metadata": {},
   "outputs": [],
   "source": [
    "for var in cols:\n",
    "    ordinal_mapper(df,var)"
   ]
  },
  {
   "cell_type": "code",
   "execution_count": 98,
   "id": "de218ece",
   "metadata": {},
   "outputs": [
    {
     "data": {
      "text/html": [
       "<div>\n",
       "<style scoped>\n",
       "    .dataframe tbody tr th:only-of-type {\n",
       "        vertical-align: middle;\n",
       "    }\n",
       "\n",
       "    .dataframe tbody tr th {\n",
       "        vertical-align: top;\n",
       "    }\n",
       "\n",
       "    .dataframe thead th {\n",
       "        text-align: right;\n",
       "    }\n",
       "</style>\n",
       "<table border=\"1\" class=\"dataframe\">\n",
       "  <thead>\n",
       "    <tr style=\"text-align: right;\">\n",
       "      <th></th>\n",
       "      <th>grade</th>\n",
       "      <th>home_ownership</th>\n",
       "      <th>verification_status</th>\n",
       "      <th>issue_d</th>\n",
       "      <th>purpose</th>\n",
       "      <th>earliest_cr_line</th>\n",
       "      <th>initial_list_status</th>\n",
       "      <th>application_type</th>\n",
       "      <th>zip</th>\n",
       "    </tr>\n",
       "  </thead>\n",
       "  <tbody>\n",
       "    <tr>\n",
       "      <th>0</th>\n",
       "      <td>0</td>\n",
       "      <td>0</td>\n",
       "      <td>0</td>\n",
       "      <td>0</td>\n",
       "      <td>0</td>\n",
       "      <td>0</td>\n",
       "      <td>0</td>\n",
       "      <td>0</td>\n",
       "      <td>0</td>\n",
       "    </tr>\n",
       "    <tr>\n",
       "      <th>1</th>\n",
       "      <td>0</td>\n",
       "      <td>1</td>\n",
       "      <td>0</td>\n",
       "      <td>0</td>\n",
       "      <td>1</td>\n",
       "      <td>1</td>\n",
       "      <td>1</td>\n",
       "      <td>0</td>\n",
       "      <td>1</td>\n",
       "    </tr>\n",
       "    <tr>\n",
       "      <th>2</th>\n",
       "      <td>0</td>\n",
       "      <td>0</td>\n",
       "      <td>1</td>\n",
       "      <td>0</td>\n",
       "      <td>2</td>\n",
       "      <td>2</td>\n",
       "      <td>1</td>\n",
       "      <td>0</td>\n",
       "      <td>1</td>\n",
       "    </tr>\n",
       "    <tr>\n",
       "      <th>3</th>\n",
       "      <td>1</td>\n",
       "      <td>0</td>\n",
       "      <td>0</td>\n",
       "      <td>1</td>\n",
       "      <td>2</td>\n",
       "      <td>3</td>\n",
       "      <td>1</td>\n",
       "      <td>0</td>\n",
       "      <td>2</td>\n",
       "    </tr>\n",
       "    <tr>\n",
       "      <th>4</th>\n",
       "      <td>2</td>\n",
       "      <td>1</td>\n",
       "      <td>2</td>\n",
       "      <td>2</td>\n",
       "      <td>2</td>\n",
       "      <td>4</td>\n",
       "      <td>1</td>\n",
       "      <td>0</td>\n",
       "      <td>3</td>\n",
       "    </tr>\n",
       "    <tr>\n",
       "      <th>...</th>\n",
       "      <td>...</td>\n",
       "      <td>...</td>\n",
       "      <td>...</td>\n",
       "      <td>...</td>\n",
       "      <td>...</td>\n",
       "      <td>...</td>\n",
       "      <td>...</td>\n",
       "      <td>...</td>\n",
       "      <td>...</td>\n",
       "    </tr>\n",
       "    <tr>\n",
       "      <th>396025</th>\n",
       "      <td>0</td>\n",
       "      <td>0</td>\n",
       "      <td>1</td>\n",
       "      <td>14</td>\n",
       "      <td>1</td>\n",
       "      <td>1</td>\n",
       "      <td>0</td>\n",
       "      <td>0</td>\n",
       "      <td>4</td>\n",
       "    </tr>\n",
       "    <tr>\n",
       "      <th>396026</th>\n",
       "      <td>2</td>\n",
       "      <td>1</td>\n",
       "      <td>1</td>\n",
       "      <td>23</td>\n",
       "      <td>1</td>\n",
       "      <td>3</td>\n",
       "      <td>1</td>\n",
       "      <td>0</td>\n",
       "      <td>1</td>\n",
       "    </tr>\n",
       "    <tr>\n",
       "      <th>396027</th>\n",
       "      <td>0</td>\n",
       "      <td>0</td>\n",
       "      <td>2</td>\n",
       "      <td>21</td>\n",
       "      <td>1</td>\n",
       "      <td>7</td>\n",
       "      <td>1</td>\n",
       "      <td>0</td>\n",
       "      <td>5</td>\n",
       "    </tr>\n",
       "    <tr>\n",
       "      <th>396028</th>\n",
       "      <td>2</td>\n",
       "      <td>1</td>\n",
       "      <td>2</td>\n",
       "      <td>55</td>\n",
       "      <td>1</td>\n",
       "      <td>0</td>\n",
       "      <td>1</td>\n",
       "      <td>0</td>\n",
       "      <td>6</td>\n",
       "    </tr>\n",
       "    <tr>\n",
       "      <th>396029</th>\n",
       "      <td>2</td>\n",
       "      <td>0</td>\n",
       "      <td>2</td>\n",
       "      <td>80</td>\n",
       "      <td>1</td>\n",
       "      <td>16</td>\n",
       "      <td>1</td>\n",
       "      <td>0</td>\n",
       "      <td>7</td>\n",
       "    </tr>\n",
       "  </tbody>\n",
       "</table>\n",
       "<p>395219 rows × 9 columns</p>\n",
       "</div>"
      ],
      "text/plain": [
       "        grade  home_ownership  verification_status  issue_d  purpose  \\\n",
       "0           0               0                    0        0        0   \n",
       "1           0               1                    0        0        1   \n",
       "2           0               0                    1        0        2   \n",
       "3           1               0                    0        1        2   \n",
       "4           2               1                    2        2        2   \n",
       "...       ...             ...                  ...      ...      ...   \n",
       "396025      0               0                    1       14        1   \n",
       "396026      2               1                    1       23        1   \n",
       "396027      0               0                    2       21        1   \n",
       "396028      2               1                    2       55        1   \n",
       "396029      2               0                    2       80        1   \n",
       "\n",
       "        earliest_cr_line  initial_list_status  application_type  zip  \n",
       "0                      0                    0                 0    0  \n",
       "1                      1                    1                 0    1  \n",
       "2                      2                    1                 0    1  \n",
       "3                      3                    1                 0    2  \n",
       "4                      4                    1                 0    3  \n",
       "...                  ...                  ...               ...  ...  \n",
       "396025                 1                    0                 0    4  \n",
       "396026                 3                    1                 0    1  \n",
       "396027                 7                    1                 0    5  \n",
       "396028                 0                    1                 0    6  \n",
       "396029                16                    1                 0    7  \n",
       "\n",
       "[395219 rows x 9 columns]"
      ]
     },
     "execution_count": 98,
     "metadata": {},
     "output_type": "execute_result"
    }
   ],
   "source": [
    "df[cols]"
   ]
  },
  {
   "cell_type": "markdown",
   "id": "5df2a2b4",
   "metadata": {},
   "source": [
    "# Train Test Split "
   ]
  },
  {
   "cell_type": "code",
   "execution_count": 131,
   "id": "9de94b78",
   "metadata": {},
   "outputs": [],
   "source": [
    "data=df.sample(frac=.5,random_state=101)"
   ]
  },
  {
   "cell_type": "code",
   "execution_count": 132,
   "id": "ba41e310",
   "metadata": {},
   "outputs": [],
   "source": [
    "from sklearn.model_selection import train_test_split"
   ]
  },
  {
   "cell_type": "code",
   "execution_count": 133,
   "id": "81f6e9ed",
   "metadata": {},
   "outputs": [],
   "source": [
    "X = data.drop('loan_status', axis=1).values # feature is everything except the loan status \n",
    "y = data['loan_status'].values # Target variable\n",
    "\n",
    "X_train, X_test, y_train, y_test = train_test_split(X, y, test_size=0.2, random_state=101)"
   ]
  },
  {
   "cell_type": "markdown",
   "id": "0deaaabb",
   "metadata": {},
   "source": [
    "# Normalizing the Data"
   ]
  },
  {
   "cell_type": "code",
   "execution_count": 134,
   "id": "033e8695",
   "metadata": {},
   "outputs": [],
   "source": [
    "from sklearn.preprocessing import MinMaxScaler # to scale the dataset"
   ]
  },
  {
   "cell_type": "code",
   "execution_count": 135,
   "id": "9e93c4ba",
   "metadata": {},
   "outputs": [],
   "source": [
    "scaler = MinMaxScaler()\n",
    "\n",
    "X_train = scaler.fit_transform(X_train)\n",
    "X_test = scaler.transform(X_test)\n",
    " # Next We have to fit the MinMax scaler on the traning data as well as transform it "
   ]
  },
  {
   "cell_type": "code",
   "execution_count": 136,
   "id": "82afb490",
   "metadata": {},
   "outputs": [
    {
     "data": {
      "text/plain": [
       "array([[0.62025316, 0.        , 0.13946241, ..., 0.02941176, 0.        ,\n",
       "        0.22222222],\n",
       "       [0.09367089, 0.        , 0.25983638, ..., 0.05335267, 0.        ,\n",
       "        0.44444444],\n",
       "       [0.16455696, 1.        , 0.33735878, ..., 0.05335267, 0.        ,\n",
       "        0.22222222],\n",
       "       ...,\n",
       "       [0.59493671, 0.        , 0.22088041, ..., 0.02941176, 0.125     ,\n",
       "        0.11111111],\n",
       "       [0.18797468, 0.        , 0.30346708, ..., 0.08823529, 0.        ,\n",
       "        0.11111111],\n",
       "       [0.36708861, 0.        , 0.25983638, ..., 0.05882353, 0.        ,\n",
       "        0.22222222]])"
      ]
     },
     "execution_count": 136,
     "metadata": {},
     "output_type": "execute_result"
    }
   ],
   "source": [
    "X_train"
   ]
  },
  {
   "cell_type": "code",
   "execution_count": null,
   "id": "1e79aada",
   "metadata": {},
   "outputs": [],
   "source": []
  },
  {
   "cell_type": "markdown",
   "id": "f5ca19d2",
   "metadata": {},
   "source": [
    "# Modelling"
   ]
  },
  {
   "cell_type": "code",
   "execution_count": 137,
   "id": "3bcbad56",
   "metadata": {},
   "outputs": [],
   "source": [
    "from sklearn.svm import LinearSVC\n",
    "from sklearn.linear_model import LogisticRegression\n",
    "from sklearn.naive_bayes import GaussianNB\n",
    "from sklearn.ensemble import RandomForestClassifier\n",
    "\n",
    "from sklearn.metrics import classification_report, confusion_matrix "
   ]
  },
  {
   "cell_type": "code",
   "execution_count": 138,
   "id": "4a17516b",
   "metadata": {},
   "outputs": [],
   "source": [
    "algo = [LinearSVC(),\n",
    "        LogisticRegression(random_state = 0 ,solver = \"lbfgs\", max_iter=1000),\n",
    "        GaussianNB(),\n",
    "        RandomForestClassifier(random_state=0, n_estimators=10)]"
   ]
  },
  {
   "cell_type": "code",
   "execution_count": 139,
   "id": "9240b765",
   "metadata": {},
   "outputs": [],
   "source": [
    "def model_clf(x):\n",
    "    cl = x # instanciating the model\n",
    "    cl.fit(X_train, y_train) # fit the model & pass the data\n",
    "    predict = cl.predict(X_test) # prediction on test data\n",
    "    print(classification_report(y_test,predict))  "
   ]
  },
  {
   "cell_type": "code",
   "execution_count": 140,
   "id": "66a68088",
   "metadata": {},
   "outputs": [
    {
     "name": "stdout",
     "output_type": "stream",
     "text": [
      "              precision    recall  f1-score   support\n",
      "\n",
      "           0       0.73      0.11      0.19      7947\n",
      "           1       0.82      0.99      0.89     31575\n",
      "\n",
      "    accuracy                           0.81     39522\n",
      "   macro avg       0.77      0.55      0.54     39522\n",
      "weighted avg       0.80      0.81      0.75     39522\n",
      "\n",
      "              precision    recall  f1-score   support\n",
      "\n",
      "           0       0.66      0.19      0.29      7947\n",
      "           1       0.83      0.98      0.90     31575\n",
      "\n",
      "    accuracy                           0.82     39522\n",
      "   macro avg       0.74      0.58      0.59     39522\n",
      "weighted avg       0.79      0.82      0.77     39522\n",
      "\n",
      "              precision    recall  f1-score   support\n",
      "\n",
      "           0       0.45      0.38      0.41      7947\n",
      "           1       0.85      0.88      0.87     31575\n",
      "\n",
      "    accuracy                           0.78     39522\n",
      "   macro avg       0.65      0.63      0.64     39522\n",
      "weighted avg       0.77      0.78      0.77     39522\n",
      "\n",
      "              precision    recall  f1-score   support\n",
      "\n",
      "           0       0.78      0.51      0.62      7947\n",
      "           1       0.89      0.96      0.92     31575\n",
      "\n",
      "    accuracy                           0.87     39522\n",
      "   macro avg       0.83      0.74      0.77     39522\n",
      "weighted avg       0.86      0.87      0.86     39522\n",
      "\n"
     ]
    }
   ],
   "source": [
    "for alg in algo:\n",
    "    model_clf(alg)"
   ]
  },
  {
   "cell_type": "markdown",
   "id": "f1721dfa",
   "metadata": {},
   "source": [
    "Random Forest can work as good as Neural Network in this case "
   ]
  },
  {
   "cell_type": "code",
   "execution_count": null,
   "id": "48b31d12",
   "metadata": {},
   "outputs": [],
   "source": []
  }
 ],
 "metadata": {
  "kernelspec": {
   "display_name": "Python 3 (ipykernel)",
   "language": "python",
   "name": "python3"
  },
  "language_info": {
   "codemirror_mode": {
    "name": "ipython",
    "version": 3
   },
   "file_extension": ".py",
   "mimetype": "text/x-python",
   "name": "python",
   "nbconvert_exporter": "python",
   "pygments_lexer": "ipython3",
   "version": "3.9.7"
  }
 },
 "nbformat": 4,
 "nbformat_minor": 5
}
